{
 "cells": [
  {
   "cell_type": "code",
   "execution_count": 1,
   "id": "eaf964f3",
   "metadata": {
    "_cell_guid": "b1076dfc-b9ad-4769-8c92-a6c4dae69d19",
    "_uuid": "8f2839f25d086af736a60e9eeb907d3b93b6e0e5",
    "execution": {
     "iopub.execute_input": "2025-02-20T12:59:28.639348Z",
     "iopub.status.busy": "2025-02-20T12:59:28.638903Z",
     "iopub.status.idle": "2025-02-20T12:59:29.763404Z",
     "shell.execute_reply": "2025-02-20T12:59:29.761694Z"
    },
    "papermill": {
     "duration": 1.130646,
     "end_time": "2025-02-20T12:59:29.765353",
     "exception": false,
     "start_time": "2025-02-20T12:59:28.634707",
     "status": "completed"
    },
    "tags": []
   },
   "outputs": [
    {
     "name": "stdout",
     "output_type": "stream",
     "text": [
      "/kaggle/input/titanic/scikitlearn/default/1/pipe.pkl\n"
     ]
    }
   ],
   "source": [
    "# This Python 3 environment comes with many helpful analytics libraries installed\n",
    "# It is defined by the kaggle/python Docker image: https://github.com/kaggle/docker-python\n",
    "# For example, here's several helpful packages to load\n",
    "\n",
    "import numpy as np # linear algebra\n",
    "import pandas as pd # data processing, CSV file I/O (e.g. pd.read_csv)\n",
    "\n",
    "# Input data files are available in the read-only \"../input/\" directory\n",
    "# For example, running this (by clicking run or pressing Shift+Enter) will list all files under the input directory\n",
    "\n",
    "import os\n",
    "for dirname, _, filenames in os.walk('/kaggle/input'):\n",
    "    for filename in filenames:\n",
    "        print(os.path.join(dirname, filename))\n",
    "\n",
    "# You can write up to 20GB to the current directory (/kaggle/working/) that gets preserved as output when you create a version using \"Save & Run All\" \n",
    "# You can also write temporary files to /kaggle/temp/, but they won't be saved outside of the current session"
   ]
  },
  {
   "cell_type": "code",
   "execution_count": 2,
   "id": "da3152c6",
   "metadata": {
    "execution": {
     "iopub.execute_input": "2025-02-20T12:59:29.772125Z",
     "iopub.status.busy": "2025-02-20T12:59:29.771641Z",
     "iopub.status.idle": "2025-02-20T12:59:29.775642Z",
     "shell.execute_reply": "2025-02-20T12:59:29.774649Z"
    },
    "papermill": {
     "duration": 0.0092,
     "end_time": "2025-02-20T12:59:29.777374",
     "exception": false,
     "start_time": "2025-02-20T12:59:29.768174",
     "status": "completed"
    },
    "tags": []
   },
   "outputs": [],
   "source": [
    "import pickle\n",
    "import numpy as np"
   ]
  },
  {
   "cell_type": "code",
   "execution_count": 3,
   "id": "29e679db",
   "metadata": {
    "execution": {
     "iopub.execute_input": "2025-02-20T12:59:29.783574Z",
     "iopub.status.busy": "2025-02-20T12:59:29.783197Z",
     "iopub.status.idle": "2025-02-20T12:59:31.924292Z",
     "shell.execute_reply": "2025-02-20T12:59:31.923131Z"
    },
    "papermill": {
     "duration": 2.14677,
     "end_time": "2025-02-20T12:59:31.926648",
     "exception": false,
     "start_time": "2025-02-20T12:59:29.779878",
     "status": "completed"
    },
    "tags": []
   },
   "outputs": [],
   "source": [
    "pipe = pickle.load(open('/kaggle/input/titanic/scikitlearn/default/1/pipe.pkl','rb'))"
   ]
  },
  {
   "cell_type": "code",
   "execution_count": 4,
   "id": "eefda7a6",
   "metadata": {
    "execution": {
     "iopub.execute_input": "2025-02-20T12:59:31.932872Z",
     "iopub.status.busy": "2025-02-20T12:59:31.932338Z",
     "iopub.status.idle": "2025-02-20T12:59:31.937387Z",
     "shell.execute_reply": "2025-02-20T12:59:31.936248Z"
    },
    "papermill": {
     "duration": 0.010044,
     "end_time": "2025-02-20T12:59:31.939241",
     "exception": false,
     "start_time": "2025-02-20T12:59:31.929197",
     "status": "completed"
    },
    "tags": []
   },
   "outputs": [],
   "source": [
    "test_input2 = np.array([2, 'male', 31.0, 0, 0, 10.5, 'S'],dtype=object).reshape(1,7)\n"
   ]
  },
  {
   "cell_type": "code",
   "execution_count": 5,
   "id": "708d6228",
   "metadata": {
    "execution": {
     "iopub.execute_input": "2025-02-20T12:59:31.945332Z",
     "iopub.status.busy": "2025-02-20T12:59:31.945001Z",
     "iopub.status.idle": "2025-02-20T12:59:31.964680Z",
     "shell.execute_reply": "2025-02-20T12:59:31.963249Z"
    },
    "papermill": {
     "duration": 0.024662,
     "end_time": "2025-02-20T12:59:31.966419",
     "exception": false,
     "start_time": "2025-02-20T12:59:31.941757",
     "status": "completed"
    },
    "tags": []
   },
   "outputs": [
    {
     "name": "stderr",
     "output_type": "stream",
     "text": [
      "/usr/local/lib/python3.10/dist-packages/sklearn/base.py:439: UserWarning: X does not have valid feature names, but SimpleImputer was fitted with feature names\n",
      "  warnings.warn(\n",
      "/usr/local/lib/python3.10/dist-packages/sklearn/base.py:439: UserWarning: X does not have valid feature names, but SimpleImputer was fitted with feature names\n",
      "  warnings.warn(\n"
     ]
    },
    {
     "data": {
      "text/plain": [
       "array([0])"
      ]
     },
     "execution_count": 5,
     "metadata": {},
     "output_type": "execute_result"
    }
   ],
   "source": [
    "pipe.predict(test_input2)\n"
   ]
  },
  {
   "cell_type": "code",
   "execution_count": null,
   "id": "2d22759e",
   "metadata": {
    "papermill": {
     "duration": 0.002046,
     "end_time": "2025-02-20T12:59:31.970981",
     "exception": false,
     "start_time": "2025-02-20T12:59:31.968935",
     "status": "completed"
    },
    "tags": []
   },
   "outputs": [],
   "source": []
  }
 ],
 "metadata": {
  "kaggle": {
   "accelerator": "none",
   "dataSources": [
    {
     "isSourceIdPinned": true,
     "modelId": 244901,
     "modelInstanceId": 223137,
     "sourceId": 260998,
     "sourceType": "modelInstanceVersion"
    }
   ],
   "dockerImageVersionId": 30886,
   "isGpuEnabled": false,
   "isInternetEnabled": true,
   "language": "python",
   "sourceType": "notebook"
  },
  "kernelspec": {
   "display_name": "Python 3",
   "language": "python",
   "name": "python3"
  },
  "language_info": {
   "codemirror_mode": {
    "name": "ipython",
    "version": 3
   },
   "file_extension": ".py",
   "mimetype": "text/x-python",
   "name": "python",
   "nbconvert_exporter": "python",
   "pygments_lexer": "ipython3",
   "version": "3.10.12"
  },
  "papermill": {
   "default_parameters": {},
   "duration": 7.003871,
   "end_time": "2025-02-20T12:59:32.694362",
   "environment_variables": {},
   "exception": null,
   "input_path": "__notebook__.ipynb",
   "output_path": "__notebook__.ipynb",
   "parameters": {},
   "start_time": "2025-02-20T12:59:25.690491",
   "version": "2.6.0"
  }
 },
 "nbformat": 4,
 "nbformat_minor": 5
}
