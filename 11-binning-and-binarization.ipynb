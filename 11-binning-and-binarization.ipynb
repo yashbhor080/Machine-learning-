{
 "cells": [
  {
   "cell_type": "code",
   "execution_count": 1,
   "id": "929b4d3e",
   "metadata": {
    "_cell_guid": "b1076dfc-b9ad-4769-8c92-a6c4dae69d19",
    "_uuid": "8f2839f25d086af736a60e9eeb907d3b93b6e0e5",
    "execution": {
     "iopub.execute_input": "2025-02-19T07:39:17.534685Z",
     "iopub.status.busy": "2025-02-19T07:39:17.534247Z",
     "iopub.status.idle": "2025-02-19T07:39:18.570662Z",
     "shell.execute_reply": "2025-02-19T07:39:18.569343Z"
    },
    "papermill": {
     "duration": 1.045295,
     "end_time": "2025-02-19T07:39:18.572564",
     "exception": false,
     "start_time": "2025-02-19T07:39:17.527269",
     "status": "completed"
    },
    "tags": []
   },
   "outputs": [
    {
     "name": "stdout",
     "output_type": "stream",
     "text": [
      "/kaggle/input/titanicdataset-traincsv/train.csv\n"
     ]
    }
   ],
   "source": [
    "# This Python 3 environment comes with many helpful analytics libraries installed\n",
    "# It is defined by the kaggle/python Docker image: https://github.com/kaggle/docker-python\n",
    "# For example, here's several helpful packages to load\n",
    "\n",
    "import numpy as np # linear algebra\n",
    "import pandas as pd # data processing, CSV file I/O (e.g. pd.read_csv)\n",
    "\n",
    "# Input data files are available in the read-only \"../input/\" directory\n",
    "# For example, running this (by clicking run or pressing Shift+Enter) will list all files under the input directory\n",
    "\n",
    "import os\n",
    "for dirname, _, filenames in os.walk('/kaggle/input'):\n",
    "    for filename in filenames:\n",
    "        print(os.path.join(dirname, filename))\n",
    "\n",
    "# You can write up to 20GB to the current directory (/kaggle/working/) that gets preserved as output when you create a version using \"Save & Run All\" \n",
    "# You can also write temporary files to /kaggle/temp/, but they won't be saved outside of the current session"
   ]
  },
  {
   "cell_type": "code",
   "execution_count": 2,
   "id": "05d73898",
   "metadata": {
    "execution": {
     "iopub.execute_input": "2025-02-19T07:39:18.584426Z",
     "iopub.status.busy": "2025-02-19T07:39:18.583851Z",
     "iopub.status.idle": "2025-02-19T07:39:18.606482Z",
     "shell.execute_reply": "2025-02-19T07:39:18.605266Z"
    },
    "papermill": {
     "duration": 0.030884,
     "end_time": "2025-02-19T07:39:18.608810",
     "exception": false,
     "start_time": "2025-02-19T07:39:18.577926",
     "status": "completed"
    },
    "tags": []
   },
   "outputs": [],
   "source": [
    "df = pd.read_csv('/kaggle/input/titanicdataset-traincsv/train.csv')\n"
   ]
  },
  {
   "cell_type": "code",
   "execution_count": 3,
   "id": "807f0b6c",
   "metadata": {
    "execution": {
     "iopub.execute_input": "2025-02-19T07:39:18.620396Z",
     "iopub.status.busy": "2025-02-19T07:39:18.619929Z",
     "iopub.status.idle": "2025-02-19T07:39:18.654703Z",
     "shell.execute_reply": "2025-02-19T07:39:18.652983Z"
    },
    "papermill": {
     "duration": 0.04308,
     "end_time": "2025-02-19T07:39:18.656925",
     "exception": false,
     "start_time": "2025-02-19T07:39:18.613845",
     "status": "completed"
    },
    "tags": []
   },
   "outputs": [
    {
     "data": {
      "text/html": [
       "<div>\n",
       "<style scoped>\n",
       "    .dataframe tbody tr th:only-of-type {\n",
       "        vertical-align: middle;\n",
       "    }\n",
       "\n",
       "    .dataframe tbody tr th {\n",
       "        vertical-align: top;\n",
       "    }\n",
       "\n",
       "    .dataframe thead th {\n",
       "        text-align: right;\n",
       "    }\n",
       "</style>\n",
       "<table border=\"1\" class=\"dataframe\">\n",
       "  <thead>\n",
       "    <tr style=\"text-align: right;\">\n",
       "      <th></th>\n",
       "      <th>PassengerId</th>\n",
       "      <th>Survived</th>\n",
       "      <th>Pclass</th>\n",
       "      <th>Name</th>\n",
       "      <th>Sex</th>\n",
       "      <th>Age</th>\n",
       "      <th>SibSp</th>\n",
       "      <th>Parch</th>\n",
       "      <th>Ticket</th>\n",
       "      <th>Fare</th>\n",
       "      <th>Cabin</th>\n",
       "      <th>Embarked</th>\n",
       "    </tr>\n",
       "  </thead>\n",
       "  <tbody>\n",
       "    <tr>\n",
       "      <th>0</th>\n",
       "      <td>1</td>\n",
       "      <td>0</td>\n",
       "      <td>3</td>\n",
       "      <td>Braund, Mr. Owen Harris</td>\n",
       "      <td>male</td>\n",
       "      <td>22.0</td>\n",
       "      <td>1</td>\n",
       "      <td>0</td>\n",
       "      <td>A/5 21171</td>\n",
       "      <td>7.2500</td>\n",
       "      <td>NaN</td>\n",
       "      <td>S</td>\n",
       "    </tr>\n",
       "    <tr>\n",
       "      <th>1</th>\n",
       "      <td>2</td>\n",
       "      <td>1</td>\n",
       "      <td>1</td>\n",
       "      <td>Cumings, Mrs. John Bradley (Florence Briggs Th...</td>\n",
       "      <td>female</td>\n",
       "      <td>38.0</td>\n",
       "      <td>1</td>\n",
       "      <td>0</td>\n",
       "      <td>PC 17599</td>\n",
       "      <td>71.2833</td>\n",
       "      <td>C85</td>\n",
       "      <td>C</td>\n",
       "    </tr>\n",
       "  </tbody>\n",
       "</table>\n",
       "</div>"
      ],
      "text/plain": [
       "   PassengerId  Survived  Pclass  \\\n",
       "0            1         0       3   \n",
       "1            2         1       1   \n",
       "\n",
       "                                                Name     Sex   Age  SibSp  \\\n",
       "0                            Braund, Mr. Owen Harris    male  22.0      1   \n",
       "1  Cumings, Mrs. John Bradley (Florence Briggs Th...  female  38.0      1   \n",
       "\n",
       "   Parch     Ticket     Fare Cabin Embarked  \n",
       "0      0  A/5 21171   7.2500   NaN        S  \n",
       "1      0   PC 17599  71.2833   C85        C  "
      ]
     },
     "execution_count": 3,
     "metadata": {},
     "output_type": "execute_result"
    }
   ],
   "source": [
    "df.head(2)"
   ]
  },
  {
   "cell_type": "code",
   "execution_count": 4,
   "id": "5d6f038d",
   "metadata": {
    "execution": {
     "iopub.execute_input": "2025-02-19T07:39:18.668912Z",
     "iopub.status.busy": "2025-02-19T07:39:18.668394Z",
     "iopub.status.idle": "2025-02-19T07:39:18.675034Z",
     "shell.execute_reply": "2025-02-19T07:39:18.673860Z"
    },
    "papermill": {
     "duration": 0.015018,
     "end_time": "2025-02-19T07:39:18.677196",
     "exception": false,
     "start_time": "2025-02-19T07:39:18.662178",
     "status": "completed"
    },
    "tags": []
   },
   "outputs": [
    {
     "data": {
      "text/plain": [
       "(891, 12)"
      ]
     },
     "execution_count": 4,
     "metadata": {},
     "output_type": "execute_result"
    }
   ],
   "source": [
    "df.shape"
   ]
  },
  {
   "cell_type": "code",
   "execution_count": 5,
   "id": "5d19ef44",
   "metadata": {
    "execution": {
     "iopub.execute_input": "2025-02-19T07:39:18.689330Z",
     "iopub.status.busy": "2025-02-19T07:39:18.688927Z",
     "iopub.status.idle": "2025-02-19T07:39:18.700608Z",
     "shell.execute_reply": "2025-02-19T07:39:18.699418Z"
    },
    "papermill": {
     "duration": 0.020269,
     "end_time": "2025-02-19T07:39:18.702639",
     "exception": false,
     "start_time": "2025-02-19T07:39:18.682370",
     "status": "completed"
    },
    "tags": []
   },
   "outputs": [],
   "source": [
    "df2=df.iloc[:,[1,5,9]]"
   ]
  },
  {
   "cell_type": "code",
   "execution_count": 6,
   "id": "1f9c7421",
   "metadata": {
    "execution": {
     "iopub.execute_input": "2025-02-19T07:39:18.714765Z",
     "iopub.status.busy": "2025-02-19T07:39:18.714325Z",
     "iopub.status.idle": "2025-02-19T07:39:18.725149Z",
     "shell.execute_reply": "2025-02-19T07:39:18.724148Z"
    },
    "papermill": {
     "duration": 0.018988,
     "end_time": "2025-02-19T07:39:18.727092",
     "exception": false,
     "start_time": "2025-02-19T07:39:18.708104",
     "status": "completed"
    },
    "tags": []
   },
   "outputs": [
    {
     "data": {
      "text/html": [
       "<div>\n",
       "<style scoped>\n",
       "    .dataframe tbody tr th:only-of-type {\n",
       "        vertical-align: middle;\n",
       "    }\n",
       "\n",
       "    .dataframe tbody tr th {\n",
       "        vertical-align: top;\n",
       "    }\n",
       "\n",
       "    .dataframe thead th {\n",
       "        text-align: right;\n",
       "    }\n",
       "</style>\n",
       "<table border=\"1\" class=\"dataframe\">\n",
       "  <thead>\n",
       "    <tr style=\"text-align: right;\">\n",
       "      <th></th>\n",
       "      <th>Survived</th>\n",
       "      <th>Age</th>\n",
       "      <th>Fare</th>\n",
       "    </tr>\n",
       "  </thead>\n",
       "  <tbody>\n",
       "    <tr>\n",
       "      <th>0</th>\n",
       "      <td>0</td>\n",
       "      <td>22.0</td>\n",
       "      <td>7.2500</td>\n",
       "    </tr>\n",
       "    <tr>\n",
       "      <th>1</th>\n",
       "      <td>1</td>\n",
       "      <td>38.0</td>\n",
       "      <td>71.2833</td>\n",
       "    </tr>\n",
       "    <tr>\n",
       "      <th>2</th>\n",
       "      <td>1</td>\n",
       "      <td>26.0</td>\n",
       "      <td>7.9250</td>\n",
       "    </tr>\n",
       "    <tr>\n",
       "      <th>3</th>\n",
       "      <td>1</td>\n",
       "      <td>35.0</td>\n",
       "      <td>53.1000</td>\n",
       "    </tr>\n",
       "    <tr>\n",
       "      <th>4</th>\n",
       "      <td>0</td>\n",
       "      <td>35.0</td>\n",
       "      <td>8.0500</td>\n",
       "    </tr>\n",
       "  </tbody>\n",
       "</table>\n",
       "</div>"
      ],
      "text/plain": [
       "   Survived   Age     Fare\n",
       "0         0  22.0   7.2500\n",
       "1         1  38.0  71.2833\n",
       "2         1  26.0   7.9250\n",
       "3         1  35.0  53.1000\n",
       "4         0  35.0   8.0500"
      ]
     },
     "execution_count": 6,
     "metadata": {},
     "output_type": "execute_result"
    }
   ],
   "source": [
    "df2.head()"
   ]
  },
  {
   "cell_type": "code",
   "execution_count": 7,
   "id": "f50d3a40",
   "metadata": {
    "execution": {
     "iopub.execute_input": "2025-02-19T07:39:18.739165Z",
     "iopub.status.busy": "2025-02-19T07:39:18.738776Z",
     "iopub.status.idle": "2025-02-19T07:39:18.748837Z",
     "shell.execute_reply": "2025-02-19T07:39:18.747700Z"
    },
    "papermill": {
     "duration": 0.018147,
     "end_time": "2025-02-19T07:39:18.750613",
     "exception": false,
     "start_time": "2025-02-19T07:39:18.732466",
     "status": "completed"
    },
    "tags": []
   },
   "outputs": [
    {
     "data": {
      "text/plain": [
       "Survived      0\n",
       "Age         177\n",
       "Fare          0\n",
       "dtype: int64"
      ]
     },
     "execution_count": 7,
     "metadata": {},
     "output_type": "execute_result"
    }
   ],
   "source": [
    "df2.isnull().sum()"
   ]
  },
  {
   "cell_type": "code",
   "execution_count": 8,
   "id": "bfae225a",
   "metadata": {
    "execution": {
     "iopub.execute_input": "2025-02-19T07:39:18.762985Z",
     "iopub.status.busy": "2025-02-19T07:39:18.762531Z",
     "iopub.status.idle": "2025-02-19T07:39:18.767339Z",
     "shell.execute_reply": "2025-02-19T07:39:18.766291Z"
    },
    "papermill": {
     "duration": 0.013122,
     "end_time": "2025-02-19T07:39:18.769265",
     "exception": false,
     "start_time": "2025-02-19T07:39:18.756143",
     "status": "completed"
    },
    "tags": []
   },
   "outputs": [],
   "source": [
    "df2=df2.copy()"
   ]
  },
  {
   "cell_type": "code",
   "execution_count": 9,
   "id": "1dd647e8",
   "metadata": {
    "execution": {
     "iopub.execute_input": "2025-02-19T07:39:18.781562Z",
     "iopub.status.busy": "2025-02-19T07:39:18.781152Z",
     "iopub.status.idle": "2025-02-19T07:39:18.787956Z",
     "shell.execute_reply": "2025-02-19T07:39:18.786715Z"
    },
    "papermill": {
     "duration": 0.015009,
     "end_time": "2025-02-19T07:39:18.789768",
     "exception": false,
     "start_time": "2025-02-19T07:39:18.774759",
     "status": "completed"
    },
    "tags": []
   },
   "outputs": [],
   "source": [
    "df2.dropna(inplace=True)"
   ]
  },
  {
   "cell_type": "code",
   "execution_count": 10,
   "id": "8cc71d1f",
   "metadata": {
    "execution": {
     "iopub.execute_input": "2025-02-19T07:39:18.802015Z",
     "iopub.status.busy": "2025-02-19T07:39:18.801526Z",
     "iopub.status.idle": "2025-02-19T07:39:18.810124Z",
     "shell.execute_reply": "2025-02-19T07:39:18.809003Z"
    },
    "papermill": {
     "duration": 0.016776,
     "end_time": "2025-02-19T07:39:18.812033",
     "exception": false,
     "start_time": "2025-02-19T07:39:18.795257",
     "status": "completed"
    },
    "tags": []
   },
   "outputs": [
    {
     "data": {
      "text/plain": [
       "Survived    0\n",
       "Age         0\n",
       "Fare        0\n",
       "dtype: int64"
      ]
     },
     "execution_count": 10,
     "metadata": {},
     "output_type": "execute_result"
    }
   ],
   "source": [
    "df2.isnull().sum()"
   ]
  },
  {
   "cell_type": "code",
   "execution_count": 11,
   "id": "088eb237",
   "metadata": {
    "execution": {
     "iopub.execute_input": "2025-02-19T07:39:18.824045Z",
     "iopub.status.busy": "2025-02-19T07:39:18.823592Z",
     "iopub.status.idle": "2025-02-19T07:39:18.829875Z",
     "shell.execute_reply": "2025-02-19T07:39:18.828631Z"
    },
    "papermill": {
     "duration": 0.014397,
     "end_time": "2025-02-19T07:39:18.831785",
     "exception": false,
     "start_time": "2025-02-19T07:39:18.817388",
     "status": "completed"
    },
    "tags": []
   },
   "outputs": [],
   "source": [
    "x= df2.iloc[:,1:3]\n",
    "y= df2.iloc[:,[0]]"
   ]
  },
  {
   "cell_type": "code",
   "execution_count": 12,
   "id": "77287c4c",
   "metadata": {
    "execution": {
     "iopub.execute_input": "2025-02-19T07:39:18.844133Z",
     "iopub.status.busy": "2025-02-19T07:39:18.843722Z",
     "iopub.status.idle": "2025-02-19T07:39:20.438946Z",
     "shell.execute_reply": "2025-02-19T07:39:20.437878Z"
    },
    "papermill": {
     "duration": 1.603618,
     "end_time": "2025-02-19T07:39:20.441005",
     "exception": false,
     "start_time": "2025-02-19T07:39:18.837387",
     "status": "completed"
    },
    "tags": []
   },
   "outputs": [],
   "source": [
    "from sklearn.model_selection import train_test_split\n",
    "\n",
    "X_train,X_test,Y_train,Y_test = train_test_split(x,y,test_size=0.2,random_state=42)"
   ]
  },
  {
   "cell_type": "code",
   "execution_count": 13,
   "id": "3f592ba0",
   "metadata": {
    "execution": {
     "iopub.execute_input": "2025-02-19T07:39:20.453732Z",
     "iopub.status.busy": "2025-02-19T07:39:20.453024Z",
     "iopub.status.idle": "2025-02-19T07:39:20.742744Z",
     "shell.execute_reply": "2025-02-19T07:39:20.741291Z"
    },
    "papermill": {
     "duration": 0.298805,
     "end_time": "2025-02-19T07:39:20.745345",
     "exception": false,
     "start_time": "2025-02-19T07:39:20.446540",
     "status": "completed"
    },
    "tags": []
   },
   "outputs": [],
   "source": [
    "from sklearn.tree import DecisionTreeClassifier"
   ]
  },
  {
   "cell_type": "code",
   "execution_count": 14,
   "id": "f031e0bd",
   "metadata": {
    "execution": {
     "iopub.execute_input": "2025-02-19T07:39:20.758208Z",
     "iopub.status.busy": "2025-02-19T07:39:20.757777Z",
     "iopub.status.idle": "2025-02-19T07:39:20.762487Z",
     "shell.execute_reply": "2025-02-19T07:39:20.761262Z"
    },
    "papermill": {
     "duration": 0.01337,
     "end_time": "2025-02-19T07:39:20.764329",
     "exception": false,
     "start_time": "2025-02-19T07:39:20.750959",
     "status": "completed"
    },
    "tags": []
   },
   "outputs": [],
   "source": [
    "clf=DecisionTreeClassifier()"
   ]
  },
  {
   "cell_type": "code",
   "execution_count": 15,
   "id": "e0755a14",
   "metadata": {
    "execution": {
     "iopub.execute_input": "2025-02-19T07:39:20.777289Z",
     "iopub.status.busy": "2025-02-19T07:39:20.776850Z",
     "iopub.status.idle": "2025-02-19T07:39:20.789229Z",
     "shell.execute_reply": "2025-02-19T07:39:20.787999Z"
    },
    "papermill": {
     "duration": 0.021052,
     "end_time": "2025-02-19T07:39:20.791195",
     "exception": false,
     "start_time": "2025-02-19T07:39:20.770143",
     "status": "completed"
    },
    "tags": []
   },
   "outputs": [],
   "source": [
    "clf.fit(X_train , Y_train)\n",
    "\n",
    "y_pred = clf.predict(X_test)"
   ]
  },
  {
   "cell_type": "code",
   "execution_count": 16,
   "id": "db432b5d",
   "metadata": {
    "execution": {
     "iopub.execute_input": "2025-02-19T07:39:20.803752Z",
     "iopub.status.busy": "2025-02-19T07:39:20.803290Z",
     "iopub.status.idle": "2025-02-19T07:39:20.813814Z",
     "shell.execute_reply": "2025-02-19T07:39:20.812749Z"
    },
    "papermill": {
     "duration": 0.018827,
     "end_time": "2025-02-19T07:39:20.815565",
     "exception": false,
     "start_time": "2025-02-19T07:39:20.796738",
     "status": "completed"
    },
    "tags": []
   },
   "outputs": [
    {
     "data": {
      "text/plain": [
       "0.6153846153846154"
      ]
     },
     "execution_count": 16,
     "metadata": {},
     "output_type": "execute_result"
    }
   ],
   "source": [
    "from sklearn.metrics import accuracy_score\n",
    "\n",
    "accuracy_score(Y_test,y_pred)"
   ]
  },
  {
   "cell_type": "code",
   "execution_count": 17,
   "id": "ab0408e1",
   "metadata": {
    "execution": {
     "iopub.execute_input": "2025-02-19T07:39:20.828448Z",
     "iopub.status.busy": "2025-02-19T07:39:20.828019Z",
     "iopub.status.idle": "2025-02-19T07:39:20.853938Z",
     "shell.execute_reply": "2025-02-19T07:39:20.852770Z"
    },
    "papermill": {
     "duration": 0.03491,
     "end_time": "2025-02-19T07:39:20.856224",
     "exception": false,
     "start_time": "2025-02-19T07:39:20.821314",
     "status": "completed"
    },
    "tags": []
   },
   "outputs": [],
   "source": [
    "from sklearn.preprocessing import KBinsDiscretizer\n",
    "from sklearn.compose import ColumnTransformer\n",
    "\n",
    "kbin_age= KBinsDiscretizer(n_bins=15, encode='ordinal', strategy='quantile')\n",
    "kbin_fare= KBinsDiscretizer(n_bins=15, encode='ordinal', strategy='quantile')\n",
    "\n",
    "trf = ColumnTransformer(\n",
    "    [\n",
    "       ('Age',kbin_age,[0]),\n",
    "        ('Fare',kbin_fare, [1])\n",
    "    ],remainder='passthrough'\n",
    ")"
   ]
  },
  {
   "cell_type": "code",
   "execution_count": 18,
   "id": "42195ff0",
   "metadata": {
    "execution": {
     "iopub.execute_input": "2025-02-19T07:39:20.869016Z",
     "iopub.status.busy": "2025-02-19T07:39:20.868562Z",
     "iopub.status.idle": "2025-02-19T07:39:20.888732Z",
     "shell.execute_reply": "2025-02-19T07:39:20.887663Z"
    },
    "papermill": {
     "duration": 0.028673,
     "end_time": "2025-02-19T07:39:20.890822",
     "exception": false,
     "start_time": "2025-02-19T07:39:20.862149",
     "status": "completed"
    },
    "tags": []
   },
   "outputs": [],
   "source": [
    "X_train_trf = trf.fit_transform(X_train)\n",
    "X_test_trf = trf.transform(X_test)"
   ]
  },
  {
   "cell_type": "code",
   "execution_count": 19,
   "id": "5e6f8686",
   "metadata": {
    "execution": {
     "iopub.execute_input": "2025-02-19T07:39:20.904511Z",
     "iopub.status.busy": "2025-02-19T07:39:20.904091Z",
     "iopub.status.idle": "2025-02-19T07:39:20.918857Z",
     "shell.execute_reply": "2025-02-19T07:39:20.917706Z"
    },
    "papermill": {
     "duration": 0.024136,
     "end_time": "2025-02-19T07:39:20.920992",
     "exception": false,
     "start_time": "2025-02-19T07:39:20.896856",
     "status": "completed"
    },
    "tags": []
   },
   "outputs": [
    {
     "data": {
      "text/plain": [
       "0.6363636363636364"
      ]
     },
     "execution_count": 19,
     "metadata": {},
     "output_type": "execute_result"
    }
   ],
   "source": [
    "clf2=DecisionTreeClassifier()\n",
    "\n",
    "clf2.fit(X_train_trf,Y_train)\n",
    "\n",
    "y_pred2= clf2.predict(X_test_trf)\n",
    "\n",
    "accuracy_score(y_pred2,Y_test)"
   ]
  },
  {
   "cell_type": "code",
   "execution_count": null,
   "id": "a8201bc5",
   "metadata": {
    "papermill": {
     "duration": 0.005142,
     "end_time": "2025-02-19T07:39:20.931941",
     "exception": false,
     "start_time": "2025-02-19T07:39:20.926799",
     "status": "completed"
    },
    "tags": []
   },
   "outputs": [],
   "source": []
  }
 ],
 "metadata": {
  "kaggle": {
   "accelerator": "none",
   "dataSources": [
    {
     "datasetId": 11657,
     "sourceId": 16098,
     "sourceType": "datasetVersion"
    }
   ],
   "dockerImageVersionId": 30886,
   "isGpuEnabled": false,
   "isInternetEnabled": true,
   "language": "python",
   "sourceType": "notebook"
  },
  "kernelspec": {
   "display_name": "Python 3",
   "language": "python",
   "name": "python3"
  },
  "language_info": {
   "codemirror_mode": {
    "name": "ipython",
    "version": 3
   },
   "file_extension": ".py",
   "mimetype": "text/x-python",
   "name": "python",
   "nbconvert_exporter": "python",
   "pygments_lexer": "ipython3",
   "version": "3.10.12"
  },
  "papermill": {
   "default_parameters": {},
   "duration": 7.646784,
   "end_time": "2025-02-19T07:39:21.963056",
   "environment_variables": {},
   "exception": null,
   "input_path": "__notebook__.ipynb",
   "output_path": "__notebook__.ipynb",
   "parameters": {},
   "start_time": "2025-02-19T07:39:14.316272",
   "version": "2.6.0"
  }
 },
 "nbformat": 4,
 "nbformat_minor": 5
}
