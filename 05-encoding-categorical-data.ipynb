{
 "cells": [
  {
   "cell_type": "code",
   "execution_count": 1,
   "id": "5ce309ed",
   "metadata": {
    "_cell_guid": "b1076dfc-b9ad-4769-8c92-a6c4dae69d19",
    "_uuid": "8f2839f25d086af736a60e9eeb907d3b93b6e0e5",
    "execution": {
     "iopub.execute_input": "2025-02-20T12:55:45.998921Z",
     "iopub.status.busy": "2025-02-20T12:55:45.998175Z",
     "iopub.status.idle": "2025-02-20T12:55:46.872813Z",
     "shell.execute_reply": "2025-02-20T12:55:46.870953Z"
    },
    "papermill": {
     "duration": 0.884403,
     "end_time": "2025-02-20T12:55:46.875032",
     "exception": false,
     "start_time": "2025-02-20T12:55:45.990629",
     "status": "completed"
    },
    "tags": []
   },
   "outputs": [
    {
     "name": "stdout",
     "output_type": "stream",
     "text": [
      "/kaggle/input/customer-data/customer.csv\n"
     ]
    }
   ],
   "source": [
    "# This Python 3 environment comes with many helpful analytics libraries installed\n",
    "# It is defined by the kaggle/python Docker image: https://github.com/kaggle/docker-python\n",
    "# For example, here's several helpful packages to load\n",
    "\n",
    "import numpy as np # linear algebra\n",
    "import pandas as pd # data processing, CSV file I/O (e.g. pd.read_csv)\n",
    "\n",
    "# Input data files are available in the read-only \"../input/\" directory\n",
    "# For example, running this (by clicking run or pressing Shift+Enter) will list all files under the input directory\n",
    "\n",
    "import os\n",
    "for dirname, _, filenames in os.walk('/kaggle/input'):\n",
    "    for filename in filenames:\n",
    "        print(os.path.join(dirname, filename))\n",
    "\n",
    "# You can write up to 20GB to the current directory (/kaggle/working/) that gets preserved as output when you create a version using \"Save & Run All\" \n",
    "# You can also write temporary files to /kaggle/temp/, but they won't be saved outside of the current session"
   ]
  },
  {
   "cell_type": "code",
   "execution_count": 2,
   "id": "765cdeda",
   "metadata": {
    "execution": {
     "iopub.execute_input": "2025-02-20T12:55:46.887078Z",
     "iopub.status.busy": "2025-02-20T12:55:46.886600Z",
     "iopub.status.idle": "2025-02-20T12:55:46.901157Z",
     "shell.execute_reply": "2025-02-20T12:55:46.900021Z"
    },
    "papermill": {
     "duration": 0.023025,
     "end_time": "2025-02-20T12:55:46.903435",
     "exception": false,
     "start_time": "2025-02-20T12:55:46.880410",
     "status": "completed"
    },
    "tags": []
   },
   "outputs": [],
   "source": [
    "df=pd.read_csv('/kaggle/input/customer-data/customer.csv')"
   ]
  },
  {
   "cell_type": "code",
   "execution_count": 3,
   "id": "da6c0eb6",
   "metadata": {
    "execution": {
     "iopub.execute_input": "2025-02-20T12:55:46.915395Z",
     "iopub.status.busy": "2025-02-20T12:55:46.915009Z",
     "iopub.status.idle": "2025-02-20T12:55:46.946602Z",
     "shell.execute_reply": "2025-02-20T12:55:46.945576Z"
    },
    "papermill": {
     "duration": 0.040178,
     "end_time": "2025-02-20T12:55:46.948687",
     "exception": false,
     "start_time": "2025-02-20T12:55:46.908509",
     "status": "completed"
    },
    "tags": []
   },
   "outputs": [
    {
     "data": {
      "text/html": [
       "<div>\n",
       "<style scoped>\n",
       "    .dataframe tbody tr th:only-of-type {\n",
       "        vertical-align: middle;\n",
       "    }\n",
       "\n",
       "    .dataframe tbody tr th {\n",
       "        vertical-align: top;\n",
       "    }\n",
       "\n",
       "    .dataframe thead th {\n",
       "        text-align: right;\n",
       "    }\n",
       "</style>\n",
       "<table border=\"1\" class=\"dataframe\">\n",
       "  <thead>\n",
       "    <tr style=\"text-align: right;\">\n",
       "      <th></th>\n",
       "      <th>age</th>\n",
       "      <th>gender</th>\n",
       "      <th>review</th>\n",
       "      <th>education</th>\n",
       "      <th>purchased</th>\n",
       "    </tr>\n",
       "  </thead>\n",
       "  <tbody>\n",
       "    <tr>\n",
       "      <th>46</th>\n",
       "      <td>64</td>\n",
       "      <td>Female</td>\n",
       "      <td>Poor</td>\n",
       "      <td>PG</td>\n",
       "      <td>No</td>\n",
       "    </tr>\n",
       "    <tr>\n",
       "      <th>1</th>\n",
       "      <td>68</td>\n",
       "      <td>Female</td>\n",
       "      <td>Poor</td>\n",
       "      <td>UG</td>\n",
       "      <td>No</td>\n",
       "    </tr>\n",
       "    <tr>\n",
       "      <th>26</th>\n",
       "      <td>53</td>\n",
       "      <td>Female</td>\n",
       "      <td>Poor</td>\n",
       "      <td>PG</td>\n",
       "      <td>No</td>\n",
       "    </tr>\n",
       "    <tr>\n",
       "      <th>35</th>\n",
       "      <td>74</td>\n",
       "      <td>Male</td>\n",
       "      <td>Poor</td>\n",
       "      <td>School</td>\n",
       "      <td>Yes</td>\n",
       "    </tr>\n",
       "    <tr>\n",
       "      <th>15</th>\n",
       "      <td>75</td>\n",
       "      <td>Male</td>\n",
       "      <td>Poor</td>\n",
       "      <td>UG</td>\n",
       "      <td>No</td>\n",
       "    </tr>\n",
       "  </tbody>\n",
       "</table>\n",
       "</div>"
      ],
      "text/plain": [
       "    age  gender review education purchased\n",
       "46   64  Female   Poor        PG        No\n",
       "1    68  Female   Poor        UG        No\n",
       "26   53  Female   Poor        PG        No\n",
       "35   74    Male   Poor    School       Yes\n",
       "15   75    Male   Poor        UG        No"
      ]
     },
     "execution_count": 3,
     "metadata": {},
     "output_type": "execute_result"
    }
   ],
   "source": [
    "df.sample(5)"
   ]
  },
  {
   "cell_type": "code",
   "execution_count": 4,
   "id": "d204e6ca",
   "metadata": {
    "execution": {
     "iopub.execute_input": "2025-02-20T12:55:46.960238Z",
     "iopub.status.busy": "2025-02-20T12:55:46.959884Z",
     "iopub.status.idle": "2025-02-20T12:55:46.966379Z",
     "shell.execute_reply": "2025-02-20T12:55:46.965558Z"
    },
    "papermill": {
     "duration": 0.013747,
     "end_time": "2025-02-20T12:55:46.967689",
     "exception": false,
     "start_time": "2025-02-20T12:55:46.953942",
     "status": "completed"
    },
    "tags": []
   },
   "outputs": [],
   "source": [
    "df=df.iloc[:,2:]"
   ]
  },
  {
   "cell_type": "code",
   "execution_count": 5,
   "id": "5d46f7a6",
   "metadata": {
    "execution": {
     "iopub.execute_input": "2025-02-20T12:55:46.980676Z",
     "iopub.status.busy": "2025-02-20T12:55:46.980286Z",
     "iopub.status.idle": "2025-02-20T12:55:46.991390Z",
     "shell.execute_reply": "2025-02-20T12:55:46.989871Z"
    },
    "papermill": {
     "duration": 0.020436,
     "end_time": "2025-02-20T12:55:46.993112",
     "exception": false,
     "start_time": "2025-02-20T12:55:46.972676",
     "status": "completed"
    },
    "tags": []
   },
   "outputs": [
    {
     "data": {
      "text/html": [
       "<div>\n",
       "<style scoped>\n",
       "    .dataframe tbody tr th:only-of-type {\n",
       "        vertical-align: middle;\n",
       "    }\n",
       "\n",
       "    .dataframe tbody tr th {\n",
       "        vertical-align: top;\n",
       "    }\n",
       "\n",
       "    .dataframe thead th {\n",
       "        text-align: right;\n",
       "    }\n",
       "</style>\n",
       "<table border=\"1\" class=\"dataframe\">\n",
       "  <thead>\n",
       "    <tr style=\"text-align: right;\">\n",
       "      <th></th>\n",
       "      <th>review</th>\n",
       "      <th>education</th>\n",
       "      <th>purchased</th>\n",
       "    </tr>\n",
       "  </thead>\n",
       "  <tbody>\n",
       "    <tr>\n",
       "      <th>0</th>\n",
       "      <td>Average</td>\n",
       "      <td>School</td>\n",
       "      <td>No</td>\n",
       "    </tr>\n",
       "    <tr>\n",
       "      <th>1</th>\n",
       "      <td>Poor</td>\n",
       "      <td>UG</td>\n",
       "      <td>No</td>\n",
       "    </tr>\n",
       "    <tr>\n",
       "      <th>2</th>\n",
       "      <td>Good</td>\n",
       "      <td>PG</td>\n",
       "      <td>No</td>\n",
       "    </tr>\n",
       "    <tr>\n",
       "      <th>3</th>\n",
       "      <td>Good</td>\n",
       "      <td>PG</td>\n",
       "      <td>No</td>\n",
       "    </tr>\n",
       "    <tr>\n",
       "      <th>4</th>\n",
       "      <td>Average</td>\n",
       "      <td>UG</td>\n",
       "      <td>No</td>\n",
       "    </tr>\n",
       "  </tbody>\n",
       "</table>\n",
       "</div>"
      ],
      "text/plain": [
       "    review education purchased\n",
       "0  Average    School        No\n",
       "1     Poor        UG        No\n",
       "2     Good        PG        No\n",
       "3     Good        PG        No\n",
       "4  Average        UG        No"
      ]
     },
     "execution_count": 5,
     "metadata": {},
     "output_type": "execute_result"
    }
   ],
   "source": [
    "df.head()"
   ]
  },
  {
   "cell_type": "code",
   "execution_count": 6,
   "id": "bc27cac7",
   "metadata": {
    "execution": {
     "iopub.execute_input": "2025-02-20T12:55:47.005120Z",
     "iopub.status.busy": "2025-02-20T12:55:47.004793Z",
     "iopub.status.idle": "2025-02-20T12:55:48.492686Z",
     "shell.execute_reply": "2025-02-20T12:55:48.491606Z"
    },
    "papermill": {
     "duration": 1.496223,
     "end_time": "2025-02-20T12:55:48.494605",
     "exception": false,
     "start_time": "2025-02-20T12:55:46.998382",
     "status": "completed"
    },
    "tags": []
   },
   "outputs": [],
   "source": [
    "from sklearn.model_selection import train_test_split"
   ]
  },
  {
   "cell_type": "code",
   "execution_count": 7,
   "id": "a350cb5c",
   "metadata": {
    "execution": {
     "iopub.execute_input": "2025-02-20T12:55:48.507709Z",
     "iopub.status.busy": "2025-02-20T12:55:48.507197Z",
     "iopub.status.idle": "2025-02-20T12:55:48.513766Z",
     "shell.execute_reply": "2025-02-20T12:55:48.512569Z"
    },
    "papermill": {
     "duration": 0.01477,
     "end_time": "2025-02-20T12:55:48.515621",
     "exception": false,
     "start_time": "2025-02-20T12:55:48.500851",
     "status": "completed"
    },
    "tags": []
   },
   "outputs": [],
   "source": [
    "x_train,x_test,y_train,y_test=train_test_split(df.iloc[:,0:2],df.iloc[:,-1],test_size=0.2)"
   ]
  },
  {
   "cell_type": "code",
   "execution_count": 8,
   "id": "896cb4a7",
   "metadata": {
    "execution": {
     "iopub.execute_input": "2025-02-20T12:55:48.527120Z",
     "iopub.status.busy": "2025-02-20T12:55:48.526790Z",
     "iopub.status.idle": "2025-02-20T12:55:48.537612Z",
     "shell.execute_reply": "2025-02-20T12:55:48.536463Z"
    },
    "papermill": {
     "duration": 0.018509,
     "end_time": "2025-02-20T12:55:48.539292",
     "exception": false,
     "start_time": "2025-02-20T12:55:48.520783",
     "status": "completed"
    },
    "tags": []
   },
   "outputs": [
    {
     "data": {
      "text/html": [
       "<div>\n",
       "<style scoped>\n",
       "    .dataframe tbody tr th:only-of-type {\n",
       "        vertical-align: middle;\n",
       "    }\n",
       "\n",
       "    .dataframe tbody tr th {\n",
       "        vertical-align: top;\n",
       "    }\n",
       "\n",
       "    .dataframe thead th {\n",
       "        text-align: right;\n",
       "    }\n",
       "</style>\n",
       "<table border=\"1\" class=\"dataframe\">\n",
       "  <thead>\n",
       "    <tr style=\"text-align: right;\">\n",
       "      <th></th>\n",
       "      <th>review</th>\n",
       "      <th>education</th>\n",
       "    </tr>\n",
       "  </thead>\n",
       "  <tbody>\n",
       "    <tr>\n",
       "      <th>28</th>\n",
       "      <td>Poor</td>\n",
       "      <td>School</td>\n",
       "    </tr>\n",
       "    <tr>\n",
       "      <th>47</th>\n",
       "      <td>Good</td>\n",
       "      <td>PG</td>\n",
       "    </tr>\n",
       "    <tr>\n",
       "      <th>37</th>\n",
       "      <td>Average</td>\n",
       "      <td>PG</td>\n",
       "    </tr>\n",
       "    <tr>\n",
       "      <th>29</th>\n",
       "      <td>Average</td>\n",
       "      <td>UG</td>\n",
       "    </tr>\n",
       "    <tr>\n",
       "      <th>21</th>\n",
       "      <td>Average</td>\n",
       "      <td>PG</td>\n",
       "    </tr>\n",
       "    <tr>\n",
       "      <th>20</th>\n",
       "      <td>Average</td>\n",
       "      <td>School</td>\n",
       "    </tr>\n",
       "    <tr>\n",
       "      <th>43</th>\n",
       "      <td>Poor</td>\n",
       "      <td>PG</td>\n",
       "    </tr>\n",
       "    <tr>\n",
       "      <th>5</th>\n",
       "      <td>Average</td>\n",
       "      <td>School</td>\n",
       "    </tr>\n",
       "    <tr>\n",
       "      <th>10</th>\n",
       "      <td>Good</td>\n",
       "      <td>UG</td>\n",
       "    </tr>\n",
       "    <tr>\n",
       "      <th>1</th>\n",
       "      <td>Poor</td>\n",
       "      <td>UG</td>\n",
       "    </tr>\n",
       "    <tr>\n",
       "      <th>17</th>\n",
       "      <td>Poor</td>\n",
       "      <td>UG</td>\n",
       "    </tr>\n",
       "    <tr>\n",
       "      <th>22</th>\n",
       "      <td>Poor</td>\n",
       "      <td>PG</td>\n",
       "    </tr>\n",
       "    <tr>\n",
       "      <th>19</th>\n",
       "      <td>Poor</td>\n",
       "      <td>PG</td>\n",
       "    </tr>\n",
       "    <tr>\n",
       "      <th>40</th>\n",
       "      <td>Good</td>\n",
       "      <td>School</td>\n",
       "    </tr>\n",
       "    <tr>\n",
       "      <th>36</th>\n",
       "      <td>Good</td>\n",
       "      <td>UG</td>\n",
       "    </tr>\n",
       "    <tr>\n",
       "      <th>3</th>\n",
       "      <td>Good</td>\n",
       "      <td>PG</td>\n",
       "    </tr>\n",
       "    <tr>\n",
       "      <th>30</th>\n",
       "      <td>Average</td>\n",
       "      <td>UG</td>\n",
       "    </tr>\n",
       "    <tr>\n",
       "      <th>0</th>\n",
       "      <td>Average</td>\n",
       "      <td>School</td>\n",
       "    </tr>\n",
       "    <tr>\n",
       "      <th>42</th>\n",
       "      <td>Good</td>\n",
       "      <td>PG</td>\n",
       "    </tr>\n",
       "    <tr>\n",
       "      <th>8</th>\n",
       "      <td>Average</td>\n",
       "      <td>UG</td>\n",
       "    </tr>\n",
       "    <tr>\n",
       "      <th>2</th>\n",
       "      <td>Good</td>\n",
       "      <td>PG</td>\n",
       "    </tr>\n",
       "    <tr>\n",
       "      <th>34</th>\n",
       "      <td>Average</td>\n",
       "      <td>School</td>\n",
       "    </tr>\n",
       "    <tr>\n",
       "      <th>38</th>\n",
       "      <td>Good</td>\n",
       "      <td>School</td>\n",
       "    </tr>\n",
       "    <tr>\n",
       "      <th>9</th>\n",
       "      <td>Good</td>\n",
       "      <td>UG</td>\n",
       "    </tr>\n",
       "    <tr>\n",
       "      <th>33</th>\n",
       "      <td>Good</td>\n",
       "      <td>PG</td>\n",
       "    </tr>\n",
       "    <tr>\n",
       "      <th>27</th>\n",
       "      <td>Poor</td>\n",
       "      <td>PG</td>\n",
       "    </tr>\n",
       "    <tr>\n",
       "      <th>46</th>\n",
       "      <td>Poor</td>\n",
       "      <td>PG</td>\n",
       "    </tr>\n",
       "    <tr>\n",
       "      <th>7</th>\n",
       "      <td>Poor</td>\n",
       "      <td>School</td>\n",
       "    </tr>\n",
       "    <tr>\n",
       "      <th>12</th>\n",
       "      <td>Poor</td>\n",
       "      <td>School</td>\n",
       "    </tr>\n",
       "    <tr>\n",
       "      <th>13</th>\n",
       "      <td>Average</td>\n",
       "      <td>School</td>\n",
       "    </tr>\n",
       "    <tr>\n",
       "      <th>25</th>\n",
       "      <td>Good</td>\n",
       "      <td>School</td>\n",
       "    </tr>\n",
       "    <tr>\n",
       "      <th>16</th>\n",
       "      <td>Poor</td>\n",
       "      <td>UG</td>\n",
       "    </tr>\n",
       "    <tr>\n",
       "      <th>39</th>\n",
       "      <td>Poor</td>\n",
       "      <td>PG</td>\n",
       "    </tr>\n",
       "    <tr>\n",
       "      <th>49</th>\n",
       "      <td>Good</td>\n",
       "      <td>UG</td>\n",
       "    </tr>\n",
       "    <tr>\n",
       "      <th>14</th>\n",
       "      <td>Poor</td>\n",
       "      <td>PG</td>\n",
       "    </tr>\n",
       "    <tr>\n",
       "      <th>6</th>\n",
       "      <td>Good</td>\n",
       "      <td>School</td>\n",
       "    </tr>\n",
       "    <tr>\n",
       "      <th>26</th>\n",
       "      <td>Poor</td>\n",
       "      <td>PG</td>\n",
       "    </tr>\n",
       "    <tr>\n",
       "      <th>23</th>\n",
       "      <td>Good</td>\n",
       "      <td>School</td>\n",
       "    </tr>\n",
       "    <tr>\n",
       "      <th>4</th>\n",
       "      <td>Average</td>\n",
       "      <td>UG</td>\n",
       "    </tr>\n",
       "    <tr>\n",
       "      <th>24</th>\n",
       "      <td>Average</td>\n",
       "      <td>PG</td>\n",
       "    </tr>\n",
       "  </tbody>\n",
       "</table>\n",
       "</div>"
      ],
      "text/plain": [
       "     review education\n",
       "28     Poor    School\n",
       "47     Good        PG\n",
       "37  Average        PG\n",
       "29  Average        UG\n",
       "21  Average        PG\n",
       "20  Average    School\n",
       "43     Poor        PG\n",
       "5   Average    School\n",
       "10     Good        UG\n",
       "1      Poor        UG\n",
       "17     Poor        UG\n",
       "22     Poor        PG\n",
       "19     Poor        PG\n",
       "40     Good    School\n",
       "36     Good        UG\n",
       "3      Good        PG\n",
       "30  Average        UG\n",
       "0   Average    School\n",
       "42     Good        PG\n",
       "8   Average        UG\n",
       "2      Good        PG\n",
       "34  Average    School\n",
       "38     Good    School\n",
       "9      Good        UG\n",
       "33     Good        PG\n",
       "27     Poor        PG\n",
       "46     Poor        PG\n",
       "7      Poor    School\n",
       "12     Poor    School\n",
       "13  Average    School\n",
       "25     Good    School\n",
       "16     Poor        UG\n",
       "39     Poor        PG\n",
       "49     Good        UG\n",
       "14     Poor        PG\n",
       "6      Good    School\n",
       "26     Poor        PG\n",
       "23     Good    School\n",
       "4   Average        UG\n",
       "24  Average        PG"
      ]
     },
     "execution_count": 8,
     "metadata": {},
     "output_type": "execute_result"
    }
   ],
   "source": [
    "x_train"
   ]
  },
  {
   "cell_type": "code",
   "execution_count": 9,
   "id": "d37ed9a6",
   "metadata": {
    "execution": {
     "iopub.execute_input": "2025-02-20T12:55:48.551339Z",
     "iopub.status.busy": "2025-02-20T12:55:48.550981Z",
     "iopub.status.idle": "2025-02-20T12:55:48.555660Z",
     "shell.execute_reply": "2025-02-20T12:55:48.554472Z"
    },
    "papermill": {
     "duration": 0.012426,
     "end_time": "2025-02-20T12:55:48.557213",
     "exception": false,
     "start_time": "2025-02-20T12:55:48.544787",
     "status": "completed"
    },
    "tags": []
   },
   "outputs": [],
   "source": [
    "from sklearn.preprocessing import OrdinalEncoder"
   ]
  },
  {
   "cell_type": "code",
   "execution_count": 10,
   "id": "e21a576b",
   "metadata": {
    "execution": {
     "iopub.execute_input": "2025-02-20T12:55:48.570062Z",
     "iopub.status.busy": "2025-02-20T12:55:48.569734Z",
     "iopub.status.idle": "2025-02-20T12:55:48.573846Z",
     "shell.execute_reply": "2025-02-20T12:55:48.572882Z"
    },
    "papermill": {
     "duration": 0.012323,
     "end_time": "2025-02-20T12:55:48.575572",
     "exception": false,
     "start_time": "2025-02-20T12:55:48.563249",
     "status": "completed"
    },
    "tags": []
   },
   "outputs": [],
   "source": [
    "oe = OrdinalEncoder(categories=[['Poor', 'Average', 'Good'], ['School', 'UG', 'PG']])"
   ]
  },
  {
   "cell_type": "code",
   "execution_count": 11,
   "id": "390423a8",
   "metadata": {
    "execution": {
     "iopub.execute_input": "2025-02-20T12:55:48.587638Z",
     "iopub.status.busy": "2025-02-20T12:55:48.587273Z",
     "iopub.status.idle": "2025-02-20T12:55:48.601262Z",
     "shell.execute_reply": "2025-02-20T12:55:48.600193Z"
    },
    "papermill": {
     "duration": 0.021914,
     "end_time": "2025-02-20T12:55:48.603059",
     "exception": false,
     "start_time": "2025-02-20T12:55:48.581145",
     "status": "completed"
    },
    "tags": []
   },
   "outputs": [
    {
     "data": {
      "text/html": [
       "<style>#sk-container-id-1 {color: black;background-color: white;}#sk-container-id-1 pre{padding: 0;}#sk-container-id-1 div.sk-toggleable {background-color: white;}#sk-container-id-1 label.sk-toggleable__label {cursor: pointer;display: block;width: 100%;margin-bottom: 0;padding: 0.3em;box-sizing: border-box;text-align: center;}#sk-container-id-1 label.sk-toggleable__label-arrow:before {content: \"▸\";float: left;margin-right: 0.25em;color: #696969;}#sk-container-id-1 label.sk-toggleable__label-arrow:hover:before {color: black;}#sk-container-id-1 div.sk-estimator:hover label.sk-toggleable__label-arrow:before {color: black;}#sk-container-id-1 div.sk-toggleable__content {max-height: 0;max-width: 0;overflow: hidden;text-align: left;background-color: #f0f8ff;}#sk-container-id-1 div.sk-toggleable__content pre {margin: 0.2em;color: black;border-radius: 0.25em;background-color: #f0f8ff;}#sk-container-id-1 input.sk-toggleable__control:checked~div.sk-toggleable__content {max-height: 200px;max-width: 100%;overflow: auto;}#sk-container-id-1 input.sk-toggleable__control:checked~label.sk-toggleable__label-arrow:before {content: \"▾\";}#sk-container-id-1 div.sk-estimator input.sk-toggleable__control:checked~label.sk-toggleable__label {background-color: #d4ebff;}#sk-container-id-1 div.sk-label input.sk-toggleable__control:checked~label.sk-toggleable__label {background-color: #d4ebff;}#sk-container-id-1 input.sk-hidden--visually {border: 0;clip: rect(1px 1px 1px 1px);clip: rect(1px, 1px, 1px, 1px);height: 1px;margin: -1px;overflow: hidden;padding: 0;position: absolute;width: 1px;}#sk-container-id-1 div.sk-estimator {font-family: monospace;background-color: #f0f8ff;border: 1px dotted black;border-radius: 0.25em;box-sizing: border-box;margin-bottom: 0.5em;}#sk-container-id-1 div.sk-estimator:hover {background-color: #d4ebff;}#sk-container-id-1 div.sk-parallel-item::after {content: \"\";width: 100%;border-bottom: 1px solid gray;flex-grow: 1;}#sk-container-id-1 div.sk-label:hover label.sk-toggleable__label {background-color: #d4ebff;}#sk-container-id-1 div.sk-serial::before {content: \"\";position: absolute;border-left: 1px solid gray;box-sizing: border-box;top: 0;bottom: 0;left: 50%;z-index: 0;}#sk-container-id-1 div.sk-serial {display: flex;flex-direction: column;align-items: center;background-color: white;padding-right: 0.2em;padding-left: 0.2em;position: relative;}#sk-container-id-1 div.sk-item {position: relative;z-index: 1;}#sk-container-id-1 div.sk-parallel {display: flex;align-items: stretch;justify-content: center;background-color: white;position: relative;}#sk-container-id-1 div.sk-item::before, #sk-container-id-1 div.sk-parallel-item::before {content: \"\";position: absolute;border-left: 1px solid gray;box-sizing: border-box;top: 0;bottom: 0;left: 50%;z-index: -1;}#sk-container-id-1 div.sk-parallel-item {display: flex;flex-direction: column;z-index: 1;position: relative;background-color: white;}#sk-container-id-1 div.sk-parallel-item:first-child::after {align-self: flex-end;width: 50%;}#sk-container-id-1 div.sk-parallel-item:last-child::after {align-self: flex-start;width: 50%;}#sk-container-id-1 div.sk-parallel-item:only-child::after {width: 0;}#sk-container-id-1 div.sk-dashed-wrapped {border: 1px dashed gray;margin: 0 0.4em 0.5em 0.4em;box-sizing: border-box;padding-bottom: 0.4em;background-color: white;}#sk-container-id-1 div.sk-label label {font-family: monospace;font-weight: bold;display: inline-block;line-height: 1.2em;}#sk-container-id-1 div.sk-label-container {text-align: center;}#sk-container-id-1 div.sk-container {/* jupyter's `normalize.less` sets `[hidden] { display: none; }` but bootstrap.min.css set `[hidden] { display: none !important; }` so we also need the `!important` here to be able to override the default hidden behavior on the sphinx rendered scikit-learn.org. See: https://github.com/scikit-learn/scikit-learn/issues/21755 */display: inline-block !important;position: relative;}#sk-container-id-1 div.sk-text-repr-fallback {display: none;}</style><div id=\"sk-container-id-1\" class=\"sk-top-container\"><div class=\"sk-text-repr-fallback\"><pre>OrdinalEncoder(categories=[[&#x27;Poor&#x27;, &#x27;Average&#x27;, &#x27;Good&#x27;], [&#x27;School&#x27;, &#x27;UG&#x27;, &#x27;PG&#x27;]])</pre><b>In a Jupyter environment, please rerun this cell to show the HTML representation or trust the notebook. <br />On GitHub, the HTML representation is unable to render, please try loading this page with nbviewer.org.</b></div><div class=\"sk-container\" hidden><div class=\"sk-item\"><div class=\"sk-estimator sk-toggleable\"><input class=\"sk-toggleable__control sk-hidden--visually\" id=\"sk-estimator-id-1\" type=\"checkbox\" checked><label for=\"sk-estimator-id-1\" class=\"sk-toggleable__label sk-toggleable__label-arrow\">OrdinalEncoder</label><div class=\"sk-toggleable__content\"><pre>OrdinalEncoder(categories=[[&#x27;Poor&#x27;, &#x27;Average&#x27;, &#x27;Good&#x27;], [&#x27;School&#x27;, &#x27;UG&#x27;, &#x27;PG&#x27;]])</pre></div></div></div></div></div>"
      ],
      "text/plain": [
       "OrdinalEncoder(categories=[['Poor', 'Average', 'Good'], ['School', 'UG', 'PG']])"
      ]
     },
     "execution_count": 11,
     "metadata": {},
     "output_type": "execute_result"
    }
   ],
   "source": [
    "oe.fit(x_train)"
   ]
  },
  {
   "cell_type": "code",
   "execution_count": 12,
   "id": "4ad693ea",
   "metadata": {
    "execution": {
     "iopub.execute_input": "2025-02-20T12:55:48.618418Z",
     "iopub.status.busy": "2025-02-20T12:55:48.618056Z",
     "iopub.status.idle": "2025-02-20T12:55:48.624194Z",
     "shell.execute_reply": "2025-02-20T12:55:48.622713Z"
    },
    "papermill": {
     "duration": 0.015527,
     "end_time": "2025-02-20T12:55:48.626447",
     "exception": false,
     "start_time": "2025-02-20T12:55:48.610920",
     "status": "completed"
    },
    "tags": []
   },
   "outputs": [],
   "source": [
    "x_train = oe.transform(x_train)"
   ]
  },
  {
   "cell_type": "code",
   "execution_count": 13,
   "id": "7d252405",
   "metadata": {
    "execution": {
     "iopub.execute_input": "2025-02-20T12:55:48.639871Z",
     "iopub.status.busy": "2025-02-20T12:55:48.639416Z",
     "iopub.status.idle": "2025-02-20T12:55:48.646685Z",
     "shell.execute_reply": "2025-02-20T12:55:48.645516Z"
    },
    "papermill": {
     "duration": 0.016628,
     "end_time": "2025-02-20T12:55:48.648903",
     "exception": false,
     "start_time": "2025-02-20T12:55:48.632275",
     "status": "completed"
    },
    "tags": []
   },
   "outputs": [
    {
     "data": {
      "text/plain": [
       "array([[0., 0.],\n",
       "       [2., 2.],\n",
       "       [1., 2.],\n",
       "       [1., 1.],\n",
       "       [1., 2.],\n",
       "       [1., 0.],\n",
       "       [0., 2.],\n",
       "       [1., 0.],\n",
       "       [2., 1.],\n",
       "       [0., 1.],\n",
       "       [0., 1.],\n",
       "       [0., 2.],\n",
       "       [0., 2.],\n",
       "       [2., 0.],\n",
       "       [2., 1.],\n",
       "       [2., 2.],\n",
       "       [1., 1.],\n",
       "       [1., 0.],\n",
       "       [2., 2.],\n",
       "       [1., 1.],\n",
       "       [2., 2.],\n",
       "       [1., 0.],\n",
       "       [2., 0.],\n",
       "       [2., 1.],\n",
       "       [2., 2.],\n",
       "       [0., 2.],\n",
       "       [0., 2.],\n",
       "       [0., 0.],\n",
       "       [0., 0.],\n",
       "       [1., 0.],\n",
       "       [2., 0.],\n",
       "       [0., 1.],\n",
       "       [0., 2.],\n",
       "       [2., 1.],\n",
       "       [0., 2.],\n",
       "       [2., 0.],\n",
       "       [0., 2.],\n",
       "       [2., 0.],\n",
       "       [1., 1.],\n",
       "       [1., 2.]])"
      ]
     },
     "execution_count": 13,
     "metadata": {},
     "output_type": "execute_result"
    }
   ],
   "source": [
    "x_train"
   ]
  },
  {
   "cell_type": "code",
   "execution_count": 14,
   "id": "fce9258a",
   "metadata": {
    "execution": {
     "iopub.execute_input": "2025-02-20T12:55:48.662636Z",
     "iopub.status.busy": "2025-02-20T12:55:48.662247Z",
     "iopub.status.idle": "2025-02-20T12:55:48.666285Z",
     "shell.execute_reply": "2025-02-20T12:55:48.665243Z"
    },
    "papermill": {
     "duration": 0.013474,
     "end_time": "2025-02-20T12:55:48.668547",
     "exception": false,
     "start_time": "2025-02-20T12:55:48.655073",
     "status": "completed"
    },
    "tags": []
   },
   "outputs": [],
   "source": [
    "from sklearn.preprocessing import LabelEncoder"
   ]
  },
  {
   "cell_type": "code",
   "execution_count": 15,
   "id": "d90ade58",
   "metadata": {
    "execution": {
     "iopub.execute_input": "2025-02-20T12:55:48.682653Z",
     "iopub.status.busy": "2025-02-20T12:55:48.682274Z",
     "iopub.status.idle": "2025-02-20T12:55:48.686240Z",
     "shell.execute_reply": "2025-02-20T12:55:48.685202Z"
    },
    "papermill": {
     "duration": 0.01282,
     "end_time": "2025-02-20T12:55:48.688125",
     "exception": false,
     "start_time": "2025-02-20T12:55:48.675305",
     "status": "completed"
    },
    "tags": []
   },
   "outputs": [],
   "source": [
    "le=LabelEncoder()"
   ]
  },
  {
   "cell_type": "code",
   "execution_count": 16,
   "id": "428d5996",
   "metadata": {
    "execution": {
     "iopub.execute_input": "2025-02-20T12:55:48.701148Z",
     "iopub.status.busy": "2025-02-20T12:55:48.700791Z",
     "iopub.status.idle": "2025-02-20T12:55:48.708103Z",
     "shell.execute_reply": "2025-02-20T12:55:48.707061Z"
    },
    "papermill": {
     "duration": 0.016065,
     "end_time": "2025-02-20T12:55:48.710132",
     "exception": false,
     "start_time": "2025-02-20T12:55:48.694067",
     "status": "completed"
    },
    "tags": []
   },
   "outputs": [
    {
     "data": {
      "text/html": [
       "<style>#sk-container-id-2 {color: black;background-color: white;}#sk-container-id-2 pre{padding: 0;}#sk-container-id-2 div.sk-toggleable {background-color: white;}#sk-container-id-2 label.sk-toggleable__label {cursor: pointer;display: block;width: 100%;margin-bottom: 0;padding: 0.3em;box-sizing: border-box;text-align: center;}#sk-container-id-2 label.sk-toggleable__label-arrow:before {content: \"▸\";float: left;margin-right: 0.25em;color: #696969;}#sk-container-id-2 label.sk-toggleable__label-arrow:hover:before {color: black;}#sk-container-id-2 div.sk-estimator:hover label.sk-toggleable__label-arrow:before {color: black;}#sk-container-id-2 div.sk-toggleable__content {max-height: 0;max-width: 0;overflow: hidden;text-align: left;background-color: #f0f8ff;}#sk-container-id-2 div.sk-toggleable__content pre {margin: 0.2em;color: black;border-radius: 0.25em;background-color: #f0f8ff;}#sk-container-id-2 input.sk-toggleable__control:checked~div.sk-toggleable__content {max-height: 200px;max-width: 100%;overflow: auto;}#sk-container-id-2 input.sk-toggleable__control:checked~label.sk-toggleable__label-arrow:before {content: \"▾\";}#sk-container-id-2 div.sk-estimator input.sk-toggleable__control:checked~label.sk-toggleable__label {background-color: #d4ebff;}#sk-container-id-2 div.sk-label input.sk-toggleable__control:checked~label.sk-toggleable__label {background-color: #d4ebff;}#sk-container-id-2 input.sk-hidden--visually {border: 0;clip: rect(1px 1px 1px 1px);clip: rect(1px, 1px, 1px, 1px);height: 1px;margin: -1px;overflow: hidden;padding: 0;position: absolute;width: 1px;}#sk-container-id-2 div.sk-estimator {font-family: monospace;background-color: #f0f8ff;border: 1px dotted black;border-radius: 0.25em;box-sizing: border-box;margin-bottom: 0.5em;}#sk-container-id-2 div.sk-estimator:hover {background-color: #d4ebff;}#sk-container-id-2 div.sk-parallel-item::after {content: \"\";width: 100%;border-bottom: 1px solid gray;flex-grow: 1;}#sk-container-id-2 div.sk-label:hover label.sk-toggleable__label {background-color: #d4ebff;}#sk-container-id-2 div.sk-serial::before {content: \"\";position: absolute;border-left: 1px solid gray;box-sizing: border-box;top: 0;bottom: 0;left: 50%;z-index: 0;}#sk-container-id-2 div.sk-serial {display: flex;flex-direction: column;align-items: center;background-color: white;padding-right: 0.2em;padding-left: 0.2em;position: relative;}#sk-container-id-2 div.sk-item {position: relative;z-index: 1;}#sk-container-id-2 div.sk-parallel {display: flex;align-items: stretch;justify-content: center;background-color: white;position: relative;}#sk-container-id-2 div.sk-item::before, #sk-container-id-2 div.sk-parallel-item::before {content: \"\";position: absolute;border-left: 1px solid gray;box-sizing: border-box;top: 0;bottom: 0;left: 50%;z-index: -1;}#sk-container-id-2 div.sk-parallel-item {display: flex;flex-direction: column;z-index: 1;position: relative;background-color: white;}#sk-container-id-2 div.sk-parallel-item:first-child::after {align-self: flex-end;width: 50%;}#sk-container-id-2 div.sk-parallel-item:last-child::after {align-self: flex-start;width: 50%;}#sk-container-id-2 div.sk-parallel-item:only-child::after {width: 0;}#sk-container-id-2 div.sk-dashed-wrapped {border: 1px dashed gray;margin: 0 0.4em 0.5em 0.4em;box-sizing: border-box;padding-bottom: 0.4em;background-color: white;}#sk-container-id-2 div.sk-label label {font-family: monospace;font-weight: bold;display: inline-block;line-height: 1.2em;}#sk-container-id-2 div.sk-label-container {text-align: center;}#sk-container-id-2 div.sk-container {/* jupyter's `normalize.less` sets `[hidden] { display: none; }` but bootstrap.min.css set `[hidden] { display: none !important; }` so we also need the `!important` here to be able to override the default hidden behavior on the sphinx rendered scikit-learn.org. See: https://github.com/scikit-learn/scikit-learn/issues/21755 */display: inline-block !important;position: relative;}#sk-container-id-2 div.sk-text-repr-fallback {display: none;}</style><div id=\"sk-container-id-2\" class=\"sk-top-container\"><div class=\"sk-text-repr-fallback\"><pre>LabelEncoder()</pre><b>In a Jupyter environment, please rerun this cell to show the HTML representation or trust the notebook. <br />On GitHub, the HTML representation is unable to render, please try loading this page with nbviewer.org.</b></div><div class=\"sk-container\" hidden><div class=\"sk-item\"><div class=\"sk-estimator sk-toggleable\"><input class=\"sk-toggleable__control sk-hidden--visually\" id=\"sk-estimator-id-2\" type=\"checkbox\" checked><label for=\"sk-estimator-id-2\" class=\"sk-toggleable__label sk-toggleable__label-arrow\">LabelEncoder</label><div class=\"sk-toggleable__content\"><pre>LabelEncoder()</pre></div></div></div></div></div>"
      ],
      "text/plain": [
       "LabelEncoder()"
      ]
     },
     "execution_count": 16,
     "metadata": {},
     "output_type": "execute_result"
    }
   ],
   "source": [
    "le.fit(y_train)"
   ]
  },
  {
   "cell_type": "code",
   "execution_count": 17,
   "id": "e164b65f",
   "metadata": {
    "execution": {
     "iopub.execute_input": "2025-02-20T12:55:48.724300Z",
     "iopub.status.busy": "2025-02-20T12:55:48.723684Z",
     "iopub.status.idle": "2025-02-20T12:55:48.728649Z",
     "shell.execute_reply": "2025-02-20T12:55:48.727575Z"
    },
    "papermill": {
     "duration": 0.013452,
     "end_time": "2025-02-20T12:55:48.730179",
     "exception": false,
     "start_time": "2025-02-20T12:55:48.716727",
     "status": "completed"
    },
    "tags": []
   },
   "outputs": [],
   "source": [
    "y_train= le.transform(y_train)"
   ]
  },
  {
   "cell_type": "code",
   "execution_count": 18,
   "id": "8964addd",
   "metadata": {
    "execution": {
     "iopub.execute_input": "2025-02-20T12:55:48.743489Z",
     "iopub.status.busy": "2025-02-20T12:55:48.743061Z",
     "iopub.status.idle": "2025-02-20T12:55:48.749030Z",
     "shell.execute_reply": "2025-02-20T12:55:48.748016Z"
    },
    "papermill": {
     "duration": 0.014601,
     "end_time": "2025-02-20T12:55:48.750882",
     "exception": false,
     "start_time": "2025-02-20T12:55:48.736281",
     "status": "completed"
    },
    "tags": []
   },
   "outputs": [
    {
     "data": {
      "text/plain": [
       "array([0, 1, 1, 1, 0, 1, 0, 1, 1, 0, 1, 1, 1, 0, 1, 0, 0, 0, 1, 0, 0, 0,\n",
       "       0, 1, 1, 0, 0, 1, 0, 0, 0, 1, 0, 0, 1, 0, 0, 0, 0, 1])"
      ]
     },
     "execution_count": 18,
     "metadata": {},
     "output_type": "execute_result"
    }
   ],
   "source": [
    "y_train"
   ]
  },
  {
   "cell_type": "code",
   "execution_count": 19,
   "id": "0c1c5c2e",
   "metadata": {
    "execution": {
     "iopub.execute_input": "2025-02-20T12:55:48.765737Z",
     "iopub.status.busy": "2025-02-20T12:55:48.765392Z",
     "iopub.status.idle": "2025-02-20T12:55:48.769877Z",
     "shell.execute_reply": "2025-02-20T12:55:48.768906Z"
    },
    "papermill": {
     "duration": 0.013854,
     "end_time": "2025-02-20T12:55:48.771309",
     "exception": false,
     "start_time": "2025-02-20T12:55:48.757455",
     "status": "completed"
    },
    "tags": []
   },
   "outputs": [],
   "source": [
    "y_test = le.transform(y_test)"
   ]
  },
  {
   "cell_type": "code",
   "execution_count": 20,
   "id": "033c8acf",
   "metadata": {
    "execution": {
     "iopub.execute_input": "2025-02-20T12:55:48.785077Z",
     "iopub.status.busy": "2025-02-20T12:55:48.784749Z",
     "iopub.status.idle": "2025-02-20T12:55:48.791000Z",
     "shell.execute_reply": "2025-02-20T12:55:48.789464Z"
    },
    "papermill": {
     "duration": 0.015208,
     "end_time": "2025-02-20T12:55:48.792971",
     "exception": false,
     "start_time": "2025-02-20T12:55:48.777763",
     "status": "completed"
    },
    "tags": []
   },
   "outputs": [
    {
     "data": {
      "text/plain": [
       "array([1, 1, 1, 0, 1, 1, 1, 0, 1, 0])"
      ]
     },
     "execution_count": 20,
     "metadata": {},
     "output_type": "execute_result"
    }
   ],
   "source": [
    "y_test"
   ]
  },
  {
   "cell_type": "code",
   "execution_count": 21,
   "id": "789b86a7",
   "metadata": {
    "execution": {
     "iopub.execute_input": "2025-02-20T12:55:48.807681Z",
     "iopub.status.busy": "2025-02-20T12:55:48.807274Z",
     "iopub.status.idle": "2025-02-20T12:55:48.812817Z",
     "shell.execute_reply": "2025-02-20T12:55:48.811716Z"
    },
    "papermill": {
     "duration": 0.015518,
     "end_time": "2025-02-20T12:55:48.814835",
     "exception": false,
     "start_time": "2025-02-20T12:55:48.799317",
     "status": "completed"
    },
    "tags": []
   },
   "outputs": [],
   "source": [
    "x_test = oe.transform(x_test)"
   ]
  },
  {
   "cell_type": "code",
   "execution_count": 22,
   "id": "7c65cc31",
   "metadata": {
    "execution": {
     "iopub.execute_input": "2025-02-20T12:55:48.829197Z",
     "iopub.status.busy": "2025-02-20T12:55:48.828820Z",
     "iopub.status.idle": "2025-02-20T12:55:48.834736Z",
     "shell.execute_reply": "2025-02-20T12:55:48.833700Z"
    },
    "papermill": {
     "duration": 0.01491,
     "end_time": "2025-02-20T12:55:48.836478",
     "exception": false,
     "start_time": "2025-02-20T12:55:48.821568",
     "status": "completed"
    },
    "tags": []
   },
   "outputs": [
    {
     "data": {
      "text/plain": [
       "array([[2., 2.],\n",
       "       [2., 1.],\n",
       "       [0., 0.],\n",
       "       [2., 0.],\n",
       "       [2., 1.],\n",
       "       [0., 0.],\n",
       "       [0., 2.],\n",
       "       [1., 1.],\n",
       "       [1., 1.],\n",
       "       [0., 1.]])"
      ]
     },
     "execution_count": 22,
     "metadata": {},
     "output_type": "execute_result"
    }
   ],
   "source": [
    "x_test"
   ]
  },
  {
   "cell_type": "code",
   "execution_count": null,
   "id": "4ada4503",
   "metadata": {
    "papermill": {
     "duration": 0.006178,
     "end_time": "2025-02-20T12:55:48.849332",
     "exception": false,
     "start_time": "2025-02-20T12:55:48.843154",
     "status": "completed"
    },
    "tags": []
   },
   "outputs": [],
   "source": []
  }
 ],
 "metadata": {
  "kaggle": {
   "accelerator": "none",
   "dataSources": [
    {
     "datasetId": 6673386,
     "sourceId": 10758649,
     "sourceType": "datasetVersion"
    }
   ],
   "dockerImageVersionId": 30886,
   "isGpuEnabled": false,
   "isInternetEnabled": true,
   "language": "python",
   "sourceType": "notebook"
  },
  "kernelspec": {
   "display_name": "Python 3",
   "language": "python",
   "name": "python3"
  },
  "language_info": {
   "codemirror_mode": {
    "name": "ipython",
    "version": 3
   },
   "file_extension": ".py",
   "mimetype": "text/x-python",
   "name": "python",
   "nbconvert_exporter": "python",
   "pygments_lexer": "ipython3",
   "version": "3.10.12"
  },
  "papermill": {
   "default_parameters": {},
   "duration": 6.397076,
   "end_time": "2025-02-20T12:55:49.576859",
   "environment_variables": {},
   "exception": null,
   "input_path": "__notebook__.ipynb",
   "output_path": "__notebook__.ipynb",
   "parameters": {},
   "start_time": "2025-02-20T12:55:43.179783",
   "version": "2.6.0"
  }
 },
 "nbformat": 4,
 "nbformat_minor": 5
}
