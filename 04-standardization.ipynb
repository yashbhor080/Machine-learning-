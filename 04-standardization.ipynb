{
 "cells": [
  {
   "cell_type": "code",
   "execution_count": 1,
   "id": "eba276e0",
   "metadata": {
    "_cell_guid": "b1076dfc-b9ad-4769-8c92-a6c4dae69d19",
    "_uuid": "8f2839f25d086af736a60e9eeb907d3b93b6e0e5",
    "execution": {
     "iopub.execute_input": "2025-02-20T12:53:43.999753Z",
     "iopub.status.busy": "2025-02-20T12:53:43.999361Z",
     "iopub.status.idle": "2025-02-20T12:53:44.884617Z",
     "shell.execute_reply": "2025-02-20T12:53:44.883177Z"
    },
    "papermill": {
     "duration": 0.891227,
     "end_time": "2025-02-20T12:53:44.886494",
     "exception": false,
     "start_time": "2025-02-20T12:53:43.995267",
     "status": "completed"
    },
    "tags": []
   },
   "outputs": [
    {
     "name": "stdout",
     "output_type": "stream",
     "text": [
      "/kaggle/input/social-network-ads/Social_Network_Ads.csv\n"
     ]
    }
   ],
   "source": [
    "# This Python 3 environment comes with many helpful analytics libraries installed\n",
    "# It is defined by the kaggle/python Docker image: https://github.com/kaggle/docker-python\n",
    "# For example, here's several helpful packages to load\n",
    "\n",
    "import numpy as np # linear algebra\n",
    "import pandas as pd # data processing, CSV file I/O (e.g. pd.read_csv)\n",
    "\n",
    "# Input data files are available in the read-only \"../input/\" directory\n",
    "# For example, running this (by clicking run or pressing Shift+Enter) will list all files under the input directory\n",
    "\n",
    "import os\n",
    "for dirname, _, filenames in os.walk('/kaggle/input'):\n",
    "    for filename in filenames:\n",
    "        print(os.path.join(dirname, filename))\n",
    "\n",
    "# You can write up to 20GB to the current directory (/kaggle/working/) that gets preserved as output when you create a version using \"Save & Run All\" \n",
    "# You can also write temporary files to /kaggle/temp/, but they won't be saved outside of the current session"
   ]
  },
  {
   "cell_type": "code",
   "execution_count": 2,
   "id": "72ed748b",
   "metadata": {
    "execution": {
     "iopub.execute_input": "2025-02-20T12:53:44.893280Z",
     "iopub.status.busy": "2025-02-20T12:53:44.892798Z",
     "iopub.status.idle": "2025-02-20T12:53:44.909247Z",
     "shell.execute_reply": "2025-02-20T12:53:44.908183Z"
    },
    "papermill": {
     "duration": 0.021514,
     "end_time": "2025-02-20T12:53:44.911035",
     "exception": false,
     "start_time": "2025-02-20T12:53:44.889521",
     "status": "completed"
    },
    "tags": []
   },
   "outputs": [],
   "source": [
    "df = pd.read_csv('/kaggle/input/social-network-ads/Social_Network_Ads.csv')"
   ]
  },
  {
   "cell_type": "code",
   "execution_count": 3,
   "id": "4bf87b13",
   "metadata": {
    "execution": {
     "iopub.execute_input": "2025-02-20T12:53:44.917341Z",
     "iopub.status.busy": "2025-02-20T12:53:44.917043Z",
     "iopub.status.idle": "2025-02-20T12:53:44.944826Z",
     "shell.execute_reply": "2025-02-20T12:53:44.943775Z"
    },
    "papermill": {
     "duration": 0.032628,
     "end_time": "2025-02-20T12:53:44.946455",
     "exception": false,
     "start_time": "2025-02-20T12:53:44.913827",
     "status": "completed"
    },
    "tags": []
   },
   "outputs": [
    {
     "data": {
      "text/html": [
       "<div>\n",
       "<style scoped>\n",
       "    .dataframe tbody tr th:only-of-type {\n",
       "        vertical-align: middle;\n",
       "    }\n",
       "\n",
       "    .dataframe tbody tr th {\n",
       "        vertical-align: top;\n",
       "    }\n",
       "\n",
       "    .dataframe thead th {\n",
       "        text-align: right;\n",
       "    }\n",
       "</style>\n",
       "<table border=\"1\" class=\"dataframe\">\n",
       "  <thead>\n",
       "    <tr style=\"text-align: right;\">\n",
       "      <th></th>\n",
       "      <th>Age</th>\n",
       "      <th>EstimatedSalary</th>\n",
       "      <th>Purchased</th>\n",
       "    </tr>\n",
       "  </thead>\n",
       "  <tbody>\n",
       "    <tr>\n",
       "      <th>156</th>\n",
       "      <td>46</td>\n",
       "      <td>59000</td>\n",
       "      <td>0</td>\n",
       "    </tr>\n",
       "    <tr>\n",
       "      <th>109</th>\n",
       "      <td>38</td>\n",
       "      <td>80000</td>\n",
       "      <td>0</td>\n",
       "    </tr>\n",
       "    <tr>\n",
       "      <th>288</th>\n",
       "      <td>41</td>\n",
       "      <td>79000</td>\n",
       "      <td>0</td>\n",
       "    </tr>\n",
       "    <tr>\n",
       "      <th>29</th>\n",
       "      <td>31</td>\n",
       "      <td>18000</td>\n",
       "      <td>0</td>\n",
       "    </tr>\n",
       "    <tr>\n",
       "      <th>150</th>\n",
       "      <td>26</td>\n",
       "      <td>15000</td>\n",
       "      <td>0</td>\n",
       "    </tr>\n",
       "  </tbody>\n",
       "</table>\n",
       "</div>"
      ],
      "text/plain": [
       "     Age  EstimatedSalary  Purchased\n",
       "156   46            59000          0\n",
       "109   38            80000          0\n",
       "288   41            79000          0\n",
       "29    31            18000          0\n",
       "150   26            15000          0"
      ]
     },
     "execution_count": 3,
     "metadata": {},
     "output_type": "execute_result"
    }
   ],
   "source": [
    "df.sample(5)"
   ]
  },
  {
   "cell_type": "markdown",
   "id": "79796fe0",
   "metadata": {
    "papermill": {
     "duration": 0.002469,
     "end_time": "2025-02-20T12:53:44.951950",
     "exception": false,
     "start_time": "2025-02-20T12:53:44.949481",
     "status": "completed"
    },
    "tags": []
   },
   "source": [
    "# Train Test Split"
   ]
  },
  {
   "cell_type": "code",
   "execution_count": 4,
   "id": "10c8fc88",
   "metadata": {
    "execution": {
     "iopub.execute_input": "2025-02-20T12:53:44.958091Z",
     "iopub.status.busy": "2025-02-20T12:53:44.957780Z",
     "iopub.status.idle": "2025-02-20T12:53:46.354722Z",
     "shell.execute_reply": "2025-02-20T12:53:46.353614Z"
    },
    "papermill": {
     "duration": 1.402007,
     "end_time": "2025-02-20T12:53:46.356500",
     "exception": false,
     "start_time": "2025-02-20T12:53:44.954493",
     "status": "completed"
    },
    "tags": []
   },
   "outputs": [
    {
     "data": {
      "text/plain": [
       "((280, 2), (120, 2))"
      ]
     },
     "execution_count": 4,
     "metadata": {},
     "output_type": "execute_result"
    }
   ],
   "source": [
    "from sklearn.model_selection import train_test_split\n",
    "X=df.drop('Purchased', axis=1)\n",
    "Y=df['Purchased']\n",
    "x_train, x_test, y_train, y_test = train_test_split(X,Y,test_size=0.3, random_state=0)\n",
    "x_train.shape, x_test.shape"
   ]
  },
  {
   "cell_type": "markdown",
   "id": "cf36d4ad",
   "metadata": {
    "papermill": {
     "duration": 0.002579,
     "end_time": "2025-02-20T12:53:46.362160",
     "exception": false,
     "start_time": "2025-02-20T12:53:46.359581",
     "status": "completed"
    },
    "tags": []
   },
   "source": [
    "# Standard Scaler\n"
   ]
  },
  {
   "cell_type": "code",
   "execution_count": 5,
   "id": "ae3522ec",
   "metadata": {
    "execution": {
     "iopub.execute_input": "2025-02-20T12:53:46.369908Z",
     "iopub.status.busy": "2025-02-20T12:53:46.369400Z",
     "iopub.status.idle": "2025-02-20T12:53:46.378360Z",
     "shell.execute_reply": "2025-02-20T12:53:46.377443Z"
    },
    "papermill": {
     "duration": 0.014436,
     "end_time": "2025-02-20T12:53:46.380155",
     "exception": false,
     "start_time": "2025-02-20T12:53:46.365719",
     "status": "completed"
    },
    "tags": []
   },
   "outputs": [],
   "source": [
    "from sklearn.preprocessing import StandardScaler\n",
    "scaler = StandardScaler()\n",
    "\n",
    "scaler.fit(x_train)\n",
    "\n",
    "x_train_scaled = scaler.transform(x_train)\n",
    "x_test_scaled = scaler.transform(x_test)"
   ]
  },
  {
   "cell_type": "code",
   "execution_count": 6,
   "id": "df37be12",
   "metadata": {
    "execution": {
     "iopub.execute_input": "2025-02-20T12:53:46.387064Z",
     "iopub.status.busy": "2025-02-20T12:53:46.386731Z",
     "iopub.status.idle": "2025-02-20T12:53:46.390867Z",
     "shell.execute_reply": "2025-02-20T12:53:46.389941Z"
    },
    "papermill": {
     "duration": 0.009393,
     "end_time": "2025-02-20T12:53:46.392553",
     "exception": false,
     "start_time": "2025-02-20T12:53:46.383160",
     "status": "completed"
    },
    "tags": []
   },
   "outputs": [],
   "source": [
    "x_train_scaled = pd.DataFrame(x_train_scaled, columns=x_train.columns)\n",
    "x_test_scaled = pd.DataFrame(x_test_scaled, columns=x_test.columns)\n"
   ]
  },
  {
   "cell_type": "code",
   "execution_count": 7,
   "id": "9815a373",
   "metadata": {
    "execution": {
     "iopub.execute_input": "2025-02-20T12:53:46.399771Z",
     "iopub.status.busy": "2025-02-20T12:53:46.399434Z",
     "iopub.status.idle": "2025-02-20T12:53:46.411642Z",
     "shell.execute_reply": "2025-02-20T12:53:46.410473Z"
    },
    "papermill": {
     "duration": 0.017963,
     "end_time": "2025-02-20T12:53:46.413472",
     "exception": false,
     "start_time": "2025-02-20T12:53:46.395509",
     "status": "completed"
    },
    "tags": []
   },
   "outputs": [
    {
     "data": {
      "text/html": [
       "<div>\n",
       "<style scoped>\n",
       "    .dataframe tbody tr th:only-of-type {\n",
       "        vertical-align: middle;\n",
       "    }\n",
       "\n",
       "    .dataframe tbody tr th {\n",
       "        vertical-align: top;\n",
       "    }\n",
       "\n",
       "    .dataframe thead th {\n",
       "        text-align: right;\n",
       "    }\n",
       "</style>\n",
       "<table border=\"1\" class=\"dataframe\">\n",
       "  <thead>\n",
       "    <tr style=\"text-align: right;\">\n",
       "      <th></th>\n",
       "      <th>Age</th>\n",
       "      <th>EstimatedSalary</th>\n",
       "    </tr>\n",
       "  </thead>\n",
       "  <tbody>\n",
       "    <tr>\n",
       "      <th>0</th>\n",
       "      <td>-1.163172</td>\n",
       "      <td>-1.584970</td>\n",
       "    </tr>\n",
       "    <tr>\n",
       "      <th>1</th>\n",
       "      <td>2.170181</td>\n",
       "      <td>0.930987</td>\n",
       "    </tr>\n",
       "    <tr>\n",
       "      <th>2</th>\n",
       "      <td>0.013305</td>\n",
       "      <td>1.220177</td>\n",
       "    </tr>\n",
       "    <tr>\n",
       "      <th>3</th>\n",
       "      <td>0.209385</td>\n",
       "      <td>1.075582</td>\n",
       "    </tr>\n",
       "    <tr>\n",
       "      <th>4</th>\n",
       "      <td>0.405465</td>\n",
       "      <td>-0.486047</td>\n",
       "    </tr>\n",
       "    <tr>\n",
       "      <th>...</th>\n",
       "      <td>...</td>\n",
       "      <td>...</td>\n",
       "    </tr>\n",
       "    <tr>\n",
       "      <th>275</th>\n",
       "      <td>0.993704</td>\n",
       "      <td>-1.151185</td>\n",
       "    </tr>\n",
       "    <tr>\n",
       "      <th>276</th>\n",
       "      <td>-0.869053</td>\n",
       "      <td>-0.775237</td>\n",
       "    </tr>\n",
       "    <tr>\n",
       "      <th>277</th>\n",
       "      <td>-0.182774</td>\n",
       "      <td>-0.514966</td>\n",
       "    </tr>\n",
       "    <tr>\n",
       "      <th>278</th>\n",
       "      <td>-1.065133</td>\n",
       "      <td>-0.457127</td>\n",
       "    </tr>\n",
       "    <tr>\n",
       "      <th>279</th>\n",
       "      <td>-1.163172</td>\n",
       "      <td>1.393691</td>\n",
       "    </tr>\n",
       "  </tbody>\n",
       "</table>\n",
       "<p>280 rows × 2 columns</p>\n",
       "</div>"
      ],
      "text/plain": [
       "          Age  EstimatedSalary\n",
       "0   -1.163172        -1.584970\n",
       "1    2.170181         0.930987\n",
       "2    0.013305         1.220177\n",
       "3    0.209385         1.075582\n",
       "4    0.405465        -0.486047\n",
       "..        ...              ...\n",
       "275  0.993704        -1.151185\n",
       "276 -0.869053        -0.775237\n",
       "277 -0.182774        -0.514966\n",
       "278 -1.065133        -0.457127\n",
       "279 -1.163172         1.393691\n",
       "\n",
       "[280 rows x 2 columns]"
      ]
     },
     "execution_count": 7,
     "metadata": {},
     "output_type": "execute_result"
    }
   ],
   "source": [
    "x_train_scaled"
   ]
  }
 ],
 "metadata": {
  "kaggle": {
   "accelerator": "none",
   "dataSources": [
    {
     "datasetId": 1394586,
     "sourceId": 2311467,
     "sourceType": "datasetVersion"
    }
   ],
   "dockerImageVersionId": 30886,
   "isGpuEnabled": false,
   "isInternetEnabled": true,
   "language": "python",
   "sourceType": "notebook"
  },
  "kernelspec": {
   "display_name": "Python 3",
   "language": "python",
   "name": "python3"
  },
  "language_info": {
   "codemirror_mode": {
    "name": "ipython",
    "version": 3
   },
   "file_extension": ".py",
   "mimetype": "text/x-python",
   "name": "python",
   "nbconvert_exporter": "python",
   "pygments_lexer": "ipython3",
   "version": "3.10.12"
  },
  "papermill": {
   "default_parameters": {},
   "duration": 5.737498,
   "end_time": "2025-02-20T12:53:47.036008",
   "environment_variables": {},
   "exception": null,
   "input_path": "__notebook__.ipynb",
   "output_path": "__notebook__.ipynb",
   "parameters": {},
   "start_time": "2025-02-20T12:53:41.298510",
   "version": "2.6.0"
  }
 },
 "nbformat": 4,
 "nbformat_minor": 5
}
