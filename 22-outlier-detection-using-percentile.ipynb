{
 "cells": [
  {
   "cell_type": "code",
   "execution_count": 1,
   "id": "931072fc",
   "metadata": {
    "_cell_guid": "b1076dfc-b9ad-4769-8c92-a6c4dae69d19",
    "_uuid": "8f2839f25d086af736a60e9eeb907d3b93b6e0e5",
    "execution": {
     "iopub.execute_input": "2025-03-02T18:04:37.696600Z",
     "iopub.status.busy": "2025-03-02T18:04:37.696147Z",
     "iopub.status.idle": "2025-03-02T18:04:38.740401Z",
     "shell.execute_reply": "2025-03-02T18:04:38.739103Z"
    },
    "papermill": {
     "duration": 1.052561,
     "end_time": "2025-03-02T18:04:38.742260",
     "exception": false,
     "start_time": "2025-03-02T18:04:37.689699",
     "status": "completed"
    },
    "tags": []
   },
   "outputs": [
    {
     "name": "stdout",
     "output_type": "stream",
     "text": [
      "/kaggle/input/height-and-weight/weight-height.csv\n"
     ]
    }
   ],
   "source": [
    "# This Python 3 environment comes with many helpful analytics libraries installed\n",
    "# It is defined by the kaggle/python Docker image: https://github.com/kaggle/docker-python\n",
    "# For example, here's several helpful packages to load\n",
    "\n",
    "import numpy as np # linear algebra\n",
    "import pandas as pd # data processing, CSV file I/O (e.g. pd.read_csv)\n",
    "\n",
    "# Input data files are available in the read-only \"../input/\" directory\n",
    "# For example, running this (by clicking run or pressing Shift+Enter) will list all files under the input directory\n",
    "\n",
    "import os\n",
    "for dirname, _, filenames in os.walk('/kaggle/input'):\n",
    "    for filename in filenames:\n",
    "        print(os.path.join(dirname, filename))\n",
    "\n",
    "# You can write up to 20GB to the current directory (/kaggle/working/) that gets preserved as output when you create a version using \"Save & Run All\" \n",
    "# You can also write temporary files to /kaggle/temp/, but they won't be saved outside of the current session"
   ]
  },
  {
   "cell_type": "code",
   "execution_count": 2,
   "id": "1525510f",
   "metadata": {
    "execution": {
     "iopub.execute_input": "2025-03-02T18:04:38.753779Z",
     "iopub.status.busy": "2025-03-02T18:04:38.753206Z",
     "iopub.status.idle": "2025-03-02T18:04:38.790399Z",
     "shell.execute_reply": "2025-03-02T18:04:38.789265Z"
    },
    "papermill": {
     "duration": 0.045229,
     "end_time": "2025-03-02T18:04:38.792321",
     "exception": false,
     "start_time": "2025-03-02T18:04:38.747092",
     "status": "completed"
    },
    "tags": []
   },
   "outputs": [],
   "source": [
    "df = pd.read_csv('/kaggle/input/height-and-weight/weight-height.csv')"
   ]
  },
  {
   "cell_type": "code",
   "execution_count": 3,
   "id": "e762e93f",
   "metadata": {
    "execution": {
     "iopub.execute_input": "2025-03-02T18:04:38.804806Z",
     "iopub.status.busy": "2025-03-02T18:04:38.804440Z",
     "iopub.status.idle": "2025-03-02T18:04:38.835391Z",
     "shell.execute_reply": "2025-03-02T18:04:38.834301Z"
    },
    "papermill": {
     "duration": 0.03925,
     "end_time": "2025-03-02T18:04:38.837186",
     "exception": false,
     "start_time": "2025-03-02T18:04:38.797936",
     "status": "completed"
    },
    "tags": []
   },
   "outputs": [
    {
     "data": {
      "text/html": [
       "<div>\n",
       "<style scoped>\n",
       "    .dataframe tbody tr th:only-of-type {\n",
       "        vertical-align: middle;\n",
       "    }\n",
       "\n",
       "    .dataframe tbody tr th {\n",
       "        vertical-align: top;\n",
       "    }\n",
       "\n",
       "    .dataframe thead th {\n",
       "        text-align: right;\n",
       "    }\n",
       "</style>\n",
       "<table border=\"1\" class=\"dataframe\">\n",
       "  <thead>\n",
       "    <tr style=\"text-align: right;\">\n",
       "      <th></th>\n",
       "      <th>Gender</th>\n",
       "      <th>Height</th>\n",
       "      <th>Weight</th>\n",
       "    </tr>\n",
       "  </thead>\n",
       "  <tbody>\n",
       "    <tr>\n",
       "      <th>0</th>\n",
       "      <td>Male</td>\n",
       "      <td>73.847017</td>\n",
       "      <td>241.893563</td>\n",
       "    </tr>\n",
       "    <tr>\n",
       "      <th>1</th>\n",
       "      <td>Male</td>\n",
       "      <td>68.781904</td>\n",
       "      <td>162.310473</td>\n",
       "    </tr>\n",
       "    <tr>\n",
       "      <th>2</th>\n",
       "      <td>Male</td>\n",
       "      <td>74.110105</td>\n",
       "      <td>212.740856</td>\n",
       "    </tr>\n",
       "    <tr>\n",
       "      <th>3</th>\n",
       "      <td>Male</td>\n",
       "      <td>71.730978</td>\n",
       "      <td>220.042470</td>\n",
       "    </tr>\n",
       "    <tr>\n",
       "      <th>4</th>\n",
       "      <td>Male</td>\n",
       "      <td>69.881796</td>\n",
       "      <td>206.349801</td>\n",
       "    </tr>\n",
       "  </tbody>\n",
       "</table>\n",
       "</div>"
      ],
      "text/plain": [
       "  Gender     Height      Weight\n",
       "0   Male  73.847017  241.893563\n",
       "1   Male  68.781904  162.310473\n",
       "2   Male  74.110105  212.740856\n",
       "3   Male  71.730978  220.042470\n",
       "4   Male  69.881796  206.349801"
      ]
     },
     "execution_count": 3,
     "metadata": {},
     "output_type": "execute_result"
    }
   ],
   "source": [
    "df.head()"
   ]
  },
  {
   "cell_type": "code",
   "execution_count": 4,
   "id": "13c53bf0",
   "metadata": {
    "execution": {
     "iopub.execute_input": "2025-03-02T18:04:38.848017Z",
     "iopub.status.busy": "2025-03-02T18:04:38.847643Z",
     "iopub.status.idle": "2025-03-02T18:04:40.896846Z",
     "shell.execute_reply": "2025-03-02T18:04:40.895515Z"
    },
    "papermill": {
     "duration": 2.057019,
     "end_time": "2025-03-02T18:04:40.899049",
     "exception": false,
     "start_time": "2025-03-02T18:04:38.842030",
     "status": "completed"
    },
    "tags": []
   },
   "outputs": [],
   "source": [
    "import seaborn as sns\n",
    "import matplotlib.pyplot as plt"
   ]
  },
  {
   "cell_type": "code",
   "execution_count": 5,
   "id": "b15dbfd6",
   "metadata": {
    "execution": {
     "iopub.execute_input": "2025-03-02T18:04:40.910010Z",
     "iopub.status.busy": "2025-03-02T18:04:40.909449Z",
     "iopub.status.idle": "2025-03-02T18:04:40.933797Z",
     "shell.execute_reply": "2025-03-02T18:04:40.932696Z"
    },
    "papermill": {
     "duration": 0.032137,
     "end_time": "2025-03-02T18:04:40.935934",
     "exception": false,
     "start_time": "2025-03-02T18:04:40.903797",
     "status": "completed"
    },
    "tags": []
   },
   "outputs": [
    {
     "data": {
      "text/html": [
       "<div>\n",
       "<style scoped>\n",
       "    .dataframe tbody tr th:only-of-type {\n",
       "        vertical-align: middle;\n",
       "    }\n",
       "\n",
       "    .dataframe tbody tr th {\n",
       "        vertical-align: top;\n",
       "    }\n",
       "\n",
       "    .dataframe thead th {\n",
       "        text-align: right;\n",
       "    }\n",
       "</style>\n",
       "<table border=\"1\" class=\"dataframe\">\n",
       "  <thead>\n",
       "    <tr style=\"text-align: right;\">\n",
       "      <th></th>\n",
       "      <th>Height</th>\n",
       "      <th>Weight</th>\n",
       "    </tr>\n",
       "  </thead>\n",
       "  <tbody>\n",
       "    <tr>\n",
       "      <th>count</th>\n",
       "      <td>10000.000000</td>\n",
       "      <td>10000.000000</td>\n",
       "    </tr>\n",
       "    <tr>\n",
       "      <th>mean</th>\n",
       "      <td>66.367560</td>\n",
       "      <td>161.440357</td>\n",
       "    </tr>\n",
       "    <tr>\n",
       "      <th>std</th>\n",
       "      <td>3.847528</td>\n",
       "      <td>32.108439</td>\n",
       "    </tr>\n",
       "    <tr>\n",
       "      <th>min</th>\n",
       "      <td>54.263133</td>\n",
       "      <td>64.700127</td>\n",
       "    </tr>\n",
       "    <tr>\n",
       "      <th>25%</th>\n",
       "      <td>63.505620</td>\n",
       "      <td>135.818051</td>\n",
       "    </tr>\n",
       "    <tr>\n",
       "      <th>50%</th>\n",
       "      <td>66.318070</td>\n",
       "      <td>161.212928</td>\n",
       "    </tr>\n",
       "    <tr>\n",
       "      <th>75%</th>\n",
       "      <td>69.174262</td>\n",
       "      <td>187.169525</td>\n",
       "    </tr>\n",
       "    <tr>\n",
       "      <th>max</th>\n",
       "      <td>78.998742</td>\n",
       "      <td>269.989699</td>\n",
       "    </tr>\n",
       "  </tbody>\n",
       "</table>\n",
       "</div>"
      ],
      "text/plain": [
       "             Height        Weight\n",
       "count  10000.000000  10000.000000\n",
       "mean      66.367560    161.440357\n",
       "std        3.847528     32.108439\n",
       "min       54.263133     64.700127\n",
       "25%       63.505620    135.818051\n",
       "50%       66.318070    161.212928\n",
       "75%       69.174262    187.169525\n",
       "max       78.998742    269.989699"
      ]
     },
     "execution_count": 5,
     "metadata": {},
     "output_type": "execute_result"
    }
   ],
   "source": [
    "df.describe()"
   ]
  },
  {
   "cell_type": "code",
   "execution_count": 6,
   "id": "f49e076e",
   "metadata": {
    "execution": {
     "iopub.execute_input": "2025-03-02T18:04:40.948923Z",
     "iopub.status.busy": "2025-03-02T18:04:40.948486Z",
     "iopub.status.idle": "2025-03-02T18:04:41.434063Z",
     "shell.execute_reply": "2025-03-02T18:04:41.432523Z"
    },
    "papermill": {
     "duration": 0.493669,
     "end_time": "2025-03-02T18:04:41.436352",
     "exception": false,
     "start_time": "2025-03-02T18:04:40.942683",
     "status": "completed"
    },
    "tags": []
   },
   "outputs": [
    {
     "name": "stderr",
     "output_type": "stream",
     "text": [
      "/usr/local/lib/python3.10/dist-packages/seaborn/_oldcore.py:1119: FutureWarning: use_inf_as_na option is deprecated and will be removed in a future version. Convert inf values to NaN before operating instead.\n",
      "  with pd.option_context('mode.use_inf_as_na', True):\n"
     ]
    },
    {
     "data": {
      "text/plain": [
       "<Axes: xlabel='Height', ylabel='Count'>"
      ]
     },
     "execution_count": 6,
     "metadata": {},
     "output_type": "execute_result"
    },
    {
     "data": {
      "image/png": "[encoded data removed]",
      "text/plain": [
       "<Figure size 640x480 with 1 Axes>"
      ]
     },
     "metadata": {},
     "output_type": "display_data"
    }
   ],
   "source": [
    "sns.histplot(df['Height'], kde=True)"
   ]
  },
  {
   "cell_type": "code",
   "execution_count": 7,
   "id": "7a2ceb46",
   "metadata": {
    "execution": {
     "iopub.execute_input": "2025-03-02T18:04:41.449237Z",
     "iopub.status.busy": "2025-03-02T18:04:41.448634Z",
     "iopub.status.idle": "2025-03-02T18:04:41.590063Z",
     "shell.execute_reply": "2025-03-02T18:04:41.588848Z"
    },
    "papermill": {
     "duration": 0.149796,
     "end_time": "2025-03-02T18:04:41.591839",
     "exception": false,
     "start_time": "2025-03-02T18:04:41.442043",
     "status": "completed"
    },
    "tags": []
   },
   "outputs": [
    {
     "data": {
      "text/plain": [
       "<Axes: >"
      ]
     },
     "execution_count": 7,
     "metadata": {},
     "output_type": "execute_result"
    },
    {
     "data": {
      "image/png": "[encoded data removed]",
      "text/plain": [
       "<Figure size 640x480 with 1 Axes>"
      ]
     },
     "metadata": {},
     "output_type": "display_data"
    }
   ],
   "source": [
    "sns.boxplot(df['Height'])"
   ]
  },
  {
   "cell_type": "code",
   "execution_count": 8,
   "id": "9c34f15a",
   "metadata": {
    "execution": {
     "iopub.execute_input": "2025-03-02T18:04:41.605312Z",
     "iopub.status.busy": "2025-03-02T18:04:41.604926Z",
     "iopub.status.idle": "2025-03-02T18:04:41.612950Z",
     "shell.execute_reply": "2025-03-02T18:04:41.611663Z"
    },
    "papermill": {
     "duration": 0.016838,
     "end_time": "2025-03-02T18:04:41.614761",
     "exception": false,
     "start_time": "2025-03-02T18:04:41.597923",
     "status": "completed"
    },
    "tags": []
   },
   "outputs": [
    {
     "data": {
      "text/plain": [
       "74.7857900583366"
      ]
     },
     "execution_count": 8,
     "metadata": {},
     "output_type": "execute_result"
    }
   ],
   "source": [
    "upperlimit = df['Height'].quantile(0.99)\n",
    "upperlimit"
   ]
  },
  {
   "cell_type": "code",
   "execution_count": 9,
   "id": "f355887c",
   "metadata": {
    "execution": {
     "iopub.execute_input": "2025-03-02T18:04:41.628339Z",
     "iopub.status.busy": "2025-03-02T18:04:41.627951Z",
     "iopub.status.idle": "2025-03-02T18:04:41.635934Z",
     "shell.execute_reply": "2025-03-02T18:04:41.634937Z"
    },
    "papermill": {
     "duration": 0.016892,
     "end_time": "2025-03-02T18:04:41.637827",
     "exception": false,
     "start_time": "2025-03-02T18:04:41.620935",
     "status": "completed"
    },
    "tags": []
   },
   "outputs": [
    {
     "data": {
      "text/plain": [
       "58.13441158671655"
      ]
     },
     "execution_count": 9,
     "metadata": {},
     "output_type": "execute_result"
    }
   ],
   "source": [
    "lowerlimit = df['Height'].quantile(0.01)\n",
    "lowerlimit"
   ]
  },
  {
   "cell_type": "code",
   "execution_count": 10,
   "id": "1534e7cd",
   "metadata": {
    "execution": {
     "iopub.execute_input": "2025-03-02T18:04:41.651716Z",
     "iopub.status.busy": "2025-03-02T18:04:41.651359Z",
     "iopub.status.idle": "2025-03-02T18:04:41.661106Z",
     "shell.execute_reply": "2025-03-02T18:04:41.659930Z"
    },
    "papermill": {
     "duration": 0.018851,
     "end_time": "2025-03-02T18:04:41.663024",
     "exception": false,
     "start_time": "2025-03-02T18:04:41.644173",
     "status": "completed"
    },
    "tags": []
   },
   "outputs": [],
   "source": [
    "new_df = df[(df['Height'] >= 58.13) & (df['Height']<= 74.78)]"
   ]
  },
  {
   "cell_type": "code",
   "execution_count": 11,
   "id": "7b280b38",
   "metadata": {
    "execution": {
     "iopub.execute_input": "2025-03-02T18:04:41.676593Z",
     "iopub.status.busy": "2025-03-02T18:04:41.676244Z",
     "iopub.status.idle": "2025-03-02T18:04:41.687082Z",
     "shell.execute_reply": "2025-03-02T18:04:41.685745Z"
    },
    "papermill": {
     "duration": 0.019689,
     "end_time": "2025-03-02T18:04:41.688852",
     "exception": false,
     "start_time": "2025-03-02T18:04:41.669163",
     "status": "completed"
    },
    "tags": []
   },
   "outputs": [
    {
     "data": {
      "text/plain": [
       "count    9799.000000\n",
       "mean       66.363507\n",
       "std         3.644267\n",
       "min        58.134496\n",
       "25%        63.577147\n",
       "50%        66.317899\n",
       "75%        69.119859\n",
       "max        74.767447\n",
       "Name: Height, dtype: float64"
      ]
     },
     "execution_count": 11,
     "metadata": {},
     "output_type": "execute_result"
    }
   ],
   "source": [
    "new_df['Height'].describe()"
   ]
  },
  {
   "cell_type": "code",
   "execution_count": 12,
   "id": "6b148f09",
   "metadata": {
    "execution": {
     "iopub.execute_input": "2025-03-02T18:04:41.703149Z",
     "iopub.status.busy": "2025-03-02T18:04:41.702751Z",
     "iopub.status.idle": "2025-03-02T18:04:42.024641Z",
     "shell.execute_reply": "2025-03-02T18:04:42.023377Z"
    },
    "papermill": {
     "duration": 0.331478,
     "end_time": "2025-03-02T18:04:42.026715",
     "exception": false,
     "start_time": "2025-03-02T18:04:41.695237",
     "status": "completed"
    },
    "tags": []
   },
   "outputs": [
    {
     "name": "stderr",
     "output_type": "stream",
     "text": [
      "/usr/local/lib/python3.10/dist-packages/seaborn/_oldcore.py:1119: FutureWarning: use_inf_as_na option is deprecated and will be removed in a future version. Convert inf values to NaN before operating instead.\n",
      "  with pd.option_context('mode.use_inf_as_na', True):\n"
     ]
    },
    {
     "data": {
      "text/plain": [
       "<Axes: xlabel='Height', ylabel='Count'>"
      ]
     },
     "execution_count": 12,
     "metadata": {},
     "output_type": "execute_result"
    },
    {
     "data": {
      "image/png": "[encoded data removed]",
      "text/plain": [
       "<Figure size 640x480 with 1 Axes>"
      ]
     },
     "metadata": {},
     "output_type": "display_data"
    }
   ],
   "source": [
    "sns.histplot(new_df['Height'], kde=True)"
   ]
  },
  {
   "cell_type": "code",
   "execution_count": 13,
   "id": "46308c14",
   "metadata": {
    "execution": {
     "iopub.execute_input": "2025-03-02T18:04:42.042164Z",
     "iopub.status.busy": "2025-03-02T18:04:42.041728Z",
     "iopub.status.idle": "2025-03-02T18:04:42.200486Z",
     "shell.execute_reply": "2025-03-02T18:04:42.199305Z"
    },
    "papermill": {
     "duration": 0.168531,
     "end_time": "2025-03-02T18:04:42.202448",
     "exception": false,
     "start_time": "2025-03-02T18:04:42.033917",
     "status": "completed"
    },
    "tags": []
   },
   "outputs": [
    {
     "data": {
      "text/plain": [
       "<Axes: >"
      ]
     },
     "execution_count": 13,
     "metadata": {},
     "output_type": "execute_result"
    },
    {
     "data": {
      "image/png": "[encoded data removed]",
      "text/plain": [
       "<Figure size 640x480 with 1 Axes>"
      ]
     },
     "metadata": {},
     "output_type": "display_data"
    }
   ],
   "source": [
    "sns.boxplot(new_df['Height'])"
   ]
  },
  {
   "cell_type": "code",
   "execution_count": 14,
   "id": "85afb437",
   "metadata": {
    "execution": {
     "iopub.execute_input": "2025-03-02T18:04:42.218769Z",
     "iopub.status.busy": "2025-03-02T18:04:42.218398Z",
     "iopub.status.idle": "2025-03-02T18:04:42.225226Z",
     "shell.execute_reply": "2025-03-02T18:04:42.223927Z"
    },
    "papermill": {
     "duration": 0.017495,
     "end_time": "2025-03-02T18:04:42.227272",
     "exception": false,
     "start_time": "2025-03-02T18:04:42.209777",
     "status": "completed"
    },
    "tags": []
   },
   "outputs": [],
   "source": [
    "# Capping --> Winsorization\n",
    "df['Height'] = np.where(df['Height'] >= upperlimit,\n",
    "        upperlimit,\n",
    "        np.where(df['Height'] <= lowerlimit,\n",
    "        lowerlimit,\n",
    "        df['Height']))"
   ]
  },
  {
   "cell_type": "code",
   "execution_count": 15,
   "id": "3df1d20d",
   "metadata": {
    "execution": {
     "iopub.execute_input": "2025-03-02T18:04:42.243233Z",
     "iopub.status.busy": "2025-03-02T18:04:42.242779Z",
     "iopub.status.idle": "2025-03-02T18:04:42.249026Z",
     "shell.execute_reply": "2025-03-02T18:04:42.247851Z"
    },
    "papermill": {
     "duration": 0.016203,
     "end_time": "2025-03-02T18:04:42.250822",
     "exception": false,
     "start_time": "2025-03-02T18:04:42.234619",
     "status": "completed"
    },
    "tags": []
   },
   "outputs": [
    {
     "data": {
      "text/plain": [
       "(10000, 3)"
      ]
     },
     "execution_count": 15,
     "metadata": {},
     "output_type": "execute_result"
    }
   ],
   "source": [
    "df.shape"
   ]
  },
  {
   "cell_type": "code",
   "execution_count": 16,
   "id": "7dae8381",
   "metadata": {
    "execution": {
     "iopub.execute_input": "2025-03-02T18:04:42.267052Z",
     "iopub.status.busy": "2025-03-02T18:04:42.266616Z",
     "iopub.status.idle": "2025-03-02T18:04:42.277268Z",
     "shell.execute_reply": "2025-03-02T18:04:42.276266Z"
    },
    "papermill": {
     "duration": 0.020752,
     "end_time": "2025-03-02T18:04:42.279163",
     "exception": false,
     "start_time": "2025-03-02T18:04:42.258411",
     "status": "completed"
    },
    "tags": []
   },
   "outputs": [
    {
     "data": {
      "text/plain": [
       "count    10000.000000\n",
       "mean        66.366281\n",
       "std          3.795717\n",
       "min         58.134412\n",
       "25%         63.505620\n",
       "50%         66.318070\n",
       "75%         69.174262\n",
       "max         74.785790\n",
       "Name: Height, dtype: float64"
      ]
     },
     "execution_count": 16,
     "metadata": {},
     "output_type": "execute_result"
    }
   ],
   "source": [
    "df['Height'].describe()"
   ]
  },
  {
   "cell_type": "code",
   "execution_count": 17,
   "id": "f96a4f34",
   "metadata": {
    "execution": {
     "iopub.execute_input": "2025-03-02T18:04:42.295458Z",
     "iopub.status.busy": "2025-03-02T18:04:42.295062Z",
     "iopub.status.idle": "2025-03-02T18:04:42.451644Z",
     "shell.execute_reply": "2025-03-02T18:04:42.450441Z"
    },
    "papermill": {
     "duration": 0.166823,
     "end_time": "2025-03-02T18:04:42.453521",
     "exception": false,
     "start_time": "2025-03-02T18:04:42.286698",
     "status": "completed"
    },
    "tags": []
   },
   "outputs": [
    {
     "data": {
      "text/plain": [
       "<Axes: >"
      ]
     },
     "execution_count": 17,
     "metadata": {},
     "output_type": "execute_result"
    },
    {
     "data": {
      "image/png": "[encoded data removed]",
      "text/plain": [
       "<Figure size 640x480 with 1 Axes>"
      ]
     },
     "metadata": {},
     "output_type": "display_data"
    }
   ],
   "source": [
    "sns.boxplot(df['Height'])"
   ]
  },
  {
   "cell_type": "code",
   "execution_count": 18,
   "id": "d3e3ecbb",
   "metadata": {
    "execution": {
     "iopub.execute_input": "2025-03-02T18:04:42.470680Z",
     "iopub.status.busy": "2025-03-02T18:04:42.470340Z",
     "iopub.status.idle": "2025-03-02T18:04:42.790446Z",
     "shell.execute_reply": "2025-03-02T18:04:42.789305Z"
    },
    "papermill": {
     "duration": 0.330834,
     "end_time": "2025-03-02T18:04:42.792243",
     "exception": false,
     "start_time": "2025-03-02T18:04:42.461409",
     "status": "completed"
    },
    "tags": []
   },
   "outputs": [
    {
     "name": "stderr",
     "output_type": "stream",
     "text": [
      "/usr/local/lib/python3.10/dist-packages/seaborn/_oldcore.py:1119: FutureWarning: use_inf_as_na option is deprecated and will be removed in a future version. Convert inf values to NaN before operating instead.\n",
      "  with pd.option_context('mode.use_inf_as_na', True):\n"
     ]
    },
    {
     "data": {
      "text/plain": [
       "<Axes: xlabel='Height', ylabel='Count'>"
      ]
     },
     "execution_count": 18,
     "metadata": {},
     "output_type": "execute_result"
    },
    {
     "data": {
      "image/png": "[encoded data removed]",
      "text/plain": [
       "<Figure size 640x480 with 1 Axes>"
      ]
     },
     "metadata": {},
     "output_type": "display_data"
    }
   ],
   "source": [
    "sns.histplot(df['Height'], kde=True)"
   ]
  },
  {
   "cell_type": "code",
   "execution_count": null,
   "id": "ea18c78b",
   "metadata": {
    "papermill": {
     "duration": 0.008393,
     "end_time": "2025-03-02T18:04:42.809860",
     "exception": false,
     "start_time": "2025-03-02T18:04:42.801467",
     "status": "completed"
    },
    "tags": []
   },
   "outputs": [],
   "source": []
  }
 ],
 "metadata": {
  "kaggle": {
   "accelerator": "none",
   "dataSources": [
    {
     "datasetId": 6774121,
     "sourceId": 10899828,
     "sourceType": "datasetVersion"
    }
   ],
   "dockerImageVersionId": 30918,
   "isGpuEnabled": false,
   "isInternetEnabled": true,
   "language": "python",
   "sourceType": "notebook"
  },
  "kernelspec": {
   "display_name": "Python 3",
   "language": "python",
   "name": "python3"
  },
  "language_info": {
   "codemirror_mode": {
    "name": "ipython",
    "version": 3
   },
   "file_extension": ".py",
   "mimetype": "text/x-python",
   "name": "python",
   "nbconvert_exporter": "python",
   "pygments_lexer": "ipython3",
   "version": "3.10.12"
  },
  "papermill": {
   "default_parameters": {},
   "duration": 9.634213,
   "end_time": "2025-03-02T18:04:43.641131",
   "environment_variables": {},
   "exception": null,
   "input_path": "__notebook__.ipynb",
   "output_path": "__notebook__.ipynb",
   "parameters": {},
   "start_time": "2025-03-02T18:04:34.006918",
   "version": "2.6.0"
  }
 },
 "nbformat": 4,
 "nbformat_minor": 5
}
