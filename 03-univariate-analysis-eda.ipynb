{
 "cells": [
  {
   "cell_type": "code",
   "execution_count": 1,
   "id": "a56d61ae",
   "metadata": {
    "_cell_guid": "b1076dfc-b9ad-4769-8c92-a6c4dae69d19",
    "_uuid": "8f2839f25d086af736a60e9eeb907d3b93b6e0e5",
    "execution": {
     "iopub.execute_input": "2025-02-06T19:11:12.327413Z",
     "iopub.status.busy": "2025-02-06T19:11:12.327042Z",
     "iopub.status.idle": "2025-02-06T19:11:13.261501Z",
     "shell.execute_reply": "2025-02-06T19:11:13.260189Z"
    },
    "papermill": {
     "duration": 0.943045,
     "end_time": "2025-02-06T19:11:13.263843",
     "exception": false,
     "start_time": "2025-02-06T19:11:12.320798",
     "status": "completed"
    },
    "tags": []
   },
   "outputs": [
    {
     "name": "stdout",
     "output_type": "stream",
     "text": [
      "/kaggle/input/harry-potter-movies-dataset/Harry_Potter_Movies/Movies.csv\n",
      "/kaggle/input/harry-potter-movies-dataset/Harry_Potter_Movies/Data_Dictionary.csv\n",
      "/kaggle/input/harry-potter-movies-dataset/Harry_Potter_Movies/LICENSE\n",
      "/kaggle/input/harry-potter-movies-dataset/Harry_Potter_Movies/Places.csv\n",
      "/kaggle/input/harry-potter-movies-dataset/Harry_Potter_Movies/Spells.csv\n",
      "/kaggle/input/harry-potter-movies-dataset/Harry_Potter_Movies/Characters.csv\n",
      "/kaggle/input/harry-potter-movies-dataset/Harry_Potter_Movies/Chapters.csv\n",
      "/kaggle/input/harry-potter-movies-dataset/Harry_Potter_Movies/Dialogue.csv\n"
     ]
    }
   ],
   "source": [
    "# This Python 3 environment comes with many helpful analytics libraries installed\n",
    "# It is defined by the kaggle/python Docker image: https://github.com/kaggle/docker-python\n",
    "# For example, here's several helpful packages to load\n",
    "\n",
    "import numpy as np # linear algebra\n",
    "import pandas as pd # data processing, CSV file I/O (e.g. pd.read_csv)\n",
    "\n",
    "# Input data files are available in the read-only \"../input/\" directory\n",
    "# For example, running this (by clicking run or pressing Shift+Enter) will list all files under the input directory\n",
    "\n",
    "import os\n",
    "for dirname, _, filenames in os.walk('/kaggle/input'):\n",
    "    for filename in filenames:\n",
    "        print(os.path.join(dirname, filename))\n",
    "\n",
    "# You can write up to 20GB to the current directory (/kaggle/working/) that gets preserved as output when you create a version using \"Save & Run All\" \n",
    "# You can also write temporary files to /kaggle/temp/, but they won't be saved outside of the current session"
   ]
  },
  {
   "cell_type": "code",
   "execution_count": 2,
   "id": "d43e9b85",
   "metadata": {
    "execution": {
     "iopub.execute_input": "2025-02-06T19:11:13.274896Z",
     "iopub.status.busy": "2025-02-06T19:11:13.274283Z",
     "iopub.status.idle": "2025-02-06T19:11:13.296860Z",
     "shell.execute_reply": "2025-02-06T19:11:13.295745Z"
    },
    "papermill": {
     "duration": 0.030071,
     "end_time": "2025-02-06T19:11:13.298885",
     "exception": false,
     "start_time": "2025-02-06T19:11:13.268814",
     "status": "completed"
    },
    "tags": []
   },
   "outputs": [],
   "source": [
    "movies = pd.read_csv('/kaggle/input/harry-potter-movies-dataset/Harry_Potter_Movies/Movies.csv')"
   ]
  },
  {
   "cell_type": "code",
   "execution_count": 3,
   "id": "3f17c60f",
   "metadata": {
    "execution": {
     "iopub.execute_input": "2025-02-06T19:11:13.309181Z",
     "iopub.status.busy": "2025-02-06T19:11:13.308830Z",
     "iopub.status.idle": "2025-02-06T19:11:13.315558Z",
     "shell.execute_reply": "2025-02-06T19:11:13.314680Z"
    },
    "papermill": {
     "duration": 0.013615,
     "end_time": "2025-02-06T19:11:13.317136",
     "exception": false,
     "start_time": "2025-02-06T19:11:13.303521",
     "status": "completed"
    },
    "tags": []
   },
   "outputs": [
    {
     "data": {
      "text/plain": [
       "(8, 6)"
      ]
     },
     "execution_count": 3,
     "metadata": {},
     "output_type": "execute_result"
    }
   ],
   "source": [
    "movies.shape"
   ]
  },
  {
   "cell_type": "code",
   "execution_count": 4,
   "id": "d36251c4",
   "metadata": {
    "execution": {
     "iopub.execute_input": "2025-02-06T19:11:13.327535Z",
     "iopub.status.busy": "2025-02-06T19:11:13.327184Z",
     "iopub.status.idle": "2025-02-06T19:11:13.356372Z",
     "shell.execute_reply": "2025-02-06T19:11:13.355234Z"
    },
    "papermill": {
     "duration": 0.036277,
     "end_time": "2025-02-06T19:11:13.358107",
     "exception": false,
     "start_time": "2025-02-06T19:11:13.321830",
     "status": "completed"
    },
    "tags": []
   },
   "outputs": [
    {
     "data": {
      "text/html": [
       "<div>\n",
       "<style scoped>\n",
       "    .dataframe tbody tr th:only-of-type {\n",
       "        vertical-align: middle;\n",
       "    }\n",
       "\n",
       "    .dataframe tbody tr th {\n",
       "        vertical-align: top;\n",
       "    }\n",
       "\n",
       "    .dataframe thead th {\n",
       "        text-align: right;\n",
       "    }\n",
       "</style>\n",
       "<table border=\"1\" class=\"dataframe\">\n",
       "  <thead>\n",
       "    <tr style=\"text-align: right;\">\n",
       "      <th></th>\n",
       "      <th>Movie ID</th>\n",
       "      <th>Movie Title</th>\n",
       "      <th>Release Year</th>\n",
       "      <th>Runtime</th>\n",
       "      <th>Budget</th>\n",
       "      <th>Box Office</th>\n",
       "    </tr>\n",
       "  </thead>\n",
       "  <tbody>\n",
       "    <tr>\n",
       "      <th>3</th>\n",
       "      <td>4</td>\n",
       "      <td>Harry Potter and the Goblet of Fire</td>\n",
       "      <td>2005</td>\n",
       "      <td>157</td>\n",
       "      <td>$150,000,000</td>\n",
       "      <td>$896,400,000</td>\n",
       "    </tr>\n",
       "    <tr>\n",
       "      <th>0</th>\n",
       "      <td>1</td>\n",
       "      <td>Harry Potter and the Philosopher's Stone</td>\n",
       "      <td>2001</td>\n",
       "      <td>152</td>\n",
       "      <td>$125,000,000</td>\n",
       "      <td>$1,002,000,000</td>\n",
       "    </tr>\n",
       "    <tr>\n",
       "      <th>1</th>\n",
       "      <td>2</td>\n",
       "      <td>Harry Potter and the Chamber of Secrets</td>\n",
       "      <td>2002</td>\n",
       "      <td>161</td>\n",
       "      <td>$100,000,000</td>\n",
       "      <td>$880,300,000</td>\n",
       "    </tr>\n",
       "    <tr>\n",
       "      <th>5</th>\n",
       "      <td>6</td>\n",
       "      <td>Harry Potter and the Half-Blood Prince</td>\n",
       "      <td>2009</td>\n",
       "      <td>153</td>\n",
       "      <td>$250,000,000</td>\n",
       "      <td>$943,200,000</td>\n",
       "    </tr>\n",
       "    <tr>\n",
       "      <th>7</th>\n",
       "      <td>8</td>\n",
       "      <td>Harry Potter and the Deathly Hallows Part 2</td>\n",
       "      <td>2011</td>\n",
       "      <td>130</td>\n",
       "      <td>$250,000,000</td>\n",
       "      <td>$1,342,000,000</td>\n",
       "    </tr>\n",
       "  </tbody>\n",
       "</table>\n",
       "</div>"
      ],
      "text/plain": [
       "   Movie ID                                  Movie Title  Release Year  \\\n",
       "3         4          Harry Potter and the Goblet of Fire          2005   \n",
       "0         1     Harry Potter and the Philosopher's Stone          2001   \n",
       "1         2      Harry Potter and the Chamber of Secrets          2002   \n",
       "5         6       Harry Potter and the Half-Blood Prince          2009   \n",
       "7         8  Harry Potter and the Deathly Hallows Part 2          2011   \n",
       "\n",
       "   Runtime         Budget       Box Office  \n",
       "3      157  $150,000,000     $896,400,000   \n",
       "0      152  $125,000,000   $1,002,000,000   \n",
       "1      161  $100,000,000     $880,300,000   \n",
       "5      153  $250,000,000     $943,200,000   \n",
       "7      130  $250,000,000   $1,342,000,000   "
      ]
     },
     "execution_count": 4,
     "metadata": {},
     "output_type": "execute_result"
    }
   ],
   "source": [
    "movies.sample(5)"
   ]
  },
  {
   "cell_type": "code",
   "execution_count": 5,
   "id": "12d5933b",
   "metadata": {
    "execution": {
     "iopub.execute_input": "2025-02-06T19:11:13.369103Z",
     "iopub.status.busy": "2025-02-06T19:11:13.368761Z",
     "iopub.status.idle": "2025-02-06T19:11:13.390909Z",
     "shell.execute_reply": "2025-02-06T19:11:13.389601Z"
    },
    "papermill": {
     "duration": 0.029502,
     "end_time": "2025-02-06T19:11:13.392584",
     "exception": false,
     "start_time": "2025-02-06T19:11:13.363082",
     "status": "completed"
    },
    "tags": []
   },
   "outputs": [
    {
     "name": "stdout",
     "output_type": "stream",
     "text": [
      "<class 'pandas.core.frame.DataFrame'>\n",
      "RangeIndex: 8 entries, 0 to 7\n",
      "Data columns (total 6 columns):\n",
      " #   Column        Non-Null Count  Dtype \n",
      "---  ------        --------------  ----- \n",
      " 0   Movie ID      8 non-null      int64 \n",
      " 1   Movie Title   8 non-null      object\n",
      " 2   Release Year  8 non-null      int64 \n",
      " 3   Runtime       8 non-null      int64 \n",
      " 4   Budget        8 non-null      object\n",
      " 5   Box Office    8 non-null      object\n",
      "dtypes: int64(3), object(3)\n",
      "memory usage: 512.0+ bytes\n"
     ]
    }
   ],
   "source": [
    "movies.info()"
   ]
  },
  {
   "cell_type": "code",
   "execution_count": 6,
   "id": "021f8001",
   "metadata": {
    "execution": {
     "iopub.execute_input": "2025-02-06T19:11:13.403441Z",
     "iopub.status.busy": "2025-02-06T19:11:13.403112Z",
     "iopub.status.idle": "2025-02-06T19:11:13.410230Z",
     "shell.execute_reply": "2025-02-06T19:11:13.409291Z"
    },
    "papermill": {
     "duration": 0.014402,
     "end_time": "2025-02-06T19:11:13.411795",
     "exception": false,
     "start_time": "2025-02-06T19:11:13.397393",
     "status": "completed"
    },
    "tags": []
   },
   "outputs": [
    {
     "data": {
      "text/plain": [
       "Movie ID        0\n",
       "Movie Title     0\n",
       "Release Year    0\n",
       "Runtime         0\n",
       "Budget          0\n",
       "Box Office      0\n",
       "dtype: int64"
      ]
     },
     "execution_count": 6,
     "metadata": {},
     "output_type": "execute_result"
    }
   ],
   "source": [
    "movies.isnull().sum()"
   ]
  },
  {
   "cell_type": "code",
   "execution_count": 7,
   "id": "5a70c630",
   "metadata": {
    "execution": {
     "iopub.execute_input": "2025-02-06T19:11:13.422810Z",
     "iopub.status.busy": "2025-02-06T19:11:13.422414Z",
     "iopub.status.idle": "2025-02-06T19:11:13.442874Z",
     "shell.execute_reply": "2025-02-06T19:11:13.441797Z"
    },
    "papermill": {
     "duration": 0.027925,
     "end_time": "2025-02-06T19:11:13.444733",
     "exception": false,
     "start_time": "2025-02-06T19:11:13.416808",
     "status": "completed"
    },
    "tags": []
   },
   "outputs": [
    {
     "data": {
      "text/html": [
       "<div>\n",
       "<style scoped>\n",
       "    .dataframe tbody tr th:only-of-type {\n",
       "        vertical-align: middle;\n",
       "    }\n",
       "\n",
       "    .dataframe tbody tr th {\n",
       "        vertical-align: top;\n",
       "    }\n",
       "\n",
       "    .dataframe thead th {\n",
       "        text-align: right;\n",
       "    }\n",
       "</style>\n",
       "<table border=\"1\" class=\"dataframe\">\n",
       "  <thead>\n",
       "    <tr style=\"text-align: right;\">\n",
       "      <th></th>\n",
       "      <th>Movie ID</th>\n",
       "      <th>Release Year</th>\n",
       "      <th>Runtime</th>\n",
       "    </tr>\n",
       "  </thead>\n",
       "  <tbody>\n",
       "    <tr>\n",
       "      <th>count</th>\n",
       "      <td>8.00000</td>\n",
       "      <td>8.000000</td>\n",
       "      <td>8.000000</td>\n",
       "    </tr>\n",
       "    <tr>\n",
       "      <th>mean</th>\n",
       "      <td>4.50000</td>\n",
       "      <td>2006.125000</td>\n",
       "      <td>147.375000</td>\n",
       "    </tr>\n",
       "    <tr>\n",
       "      <th>std</th>\n",
       "      <td>2.44949</td>\n",
       "      <td>3.720119</td>\n",
       "      <td>10.363914</td>\n",
       "    </tr>\n",
       "    <tr>\n",
       "      <th>min</th>\n",
       "      <td>1.00000</td>\n",
       "      <td>2001.000000</td>\n",
       "      <td>130.000000</td>\n",
       "    </tr>\n",
       "    <tr>\n",
       "      <th>25%</th>\n",
       "      <td>2.75000</td>\n",
       "      <td>2003.500000</td>\n",
       "      <td>141.000000</td>\n",
       "    </tr>\n",
       "    <tr>\n",
       "      <th>50%</th>\n",
       "      <td>4.50000</td>\n",
       "      <td>2006.000000</td>\n",
       "      <td>149.000000</td>\n",
       "    </tr>\n",
       "    <tr>\n",
       "      <th>75%</th>\n",
       "      <td>6.25000</td>\n",
       "      <td>2009.250000</td>\n",
       "      <td>154.000000</td>\n",
       "    </tr>\n",
       "    <tr>\n",
       "      <th>max</th>\n",
       "      <td>8.00000</td>\n",
       "      <td>2011.000000</td>\n",
       "      <td>161.000000</td>\n",
       "    </tr>\n",
       "  </tbody>\n",
       "</table>\n",
       "</div>"
      ],
      "text/plain": [
       "       Movie ID  Release Year     Runtime\n",
       "count   8.00000      8.000000    8.000000\n",
       "mean    4.50000   2006.125000  147.375000\n",
       "std     2.44949      3.720119   10.363914\n",
       "min     1.00000   2001.000000  130.000000\n",
       "25%     2.75000   2003.500000  141.000000\n",
       "50%     4.50000   2006.000000  149.000000\n",
       "75%     6.25000   2009.250000  154.000000\n",
       "max     8.00000   2011.000000  161.000000"
      ]
     },
     "execution_count": 7,
     "metadata": {},
     "output_type": "execute_result"
    }
   ],
   "source": [
    "#how does data look mathematically\n",
    "movies.describe()"
   ]
  },
  {
   "cell_type": "code",
   "execution_count": 8,
   "id": "632a4b65",
   "metadata": {
    "execution": {
     "iopub.execute_input": "2025-02-06T19:11:13.456359Z",
     "iopub.status.busy": "2025-02-06T19:11:13.455981Z",
     "iopub.status.idle": "2025-02-06T19:11:13.463241Z",
     "shell.execute_reply": "2025-02-06T19:11:13.462312Z"
    },
    "papermill": {
     "duration": 0.014993,
     "end_time": "2025-02-06T19:11:13.464918",
     "exception": false,
     "start_time": "2025-02-06T19:11:13.449925",
     "status": "completed"
    },
    "tags": []
   },
   "outputs": [
    {
     "data": {
      "text/plain": [
       "0"
      ]
     },
     "execution_count": 8,
     "metadata": {},
     "output_type": "execute_result"
    }
   ],
   "source": [
    "movies.duplicated().sum()"
   ]
  },
  {
   "cell_type": "code",
   "execution_count": 9,
   "id": "21dbaab7",
   "metadata": {
    "execution": {
     "iopub.execute_input": "2025-02-06T19:11:13.476824Z",
     "iopub.status.busy": "2025-02-06T19:11:13.476420Z",
     "iopub.status.idle": "2025-02-06T19:11:15.220510Z",
     "shell.execute_reply": "2025-02-06T19:11:15.219536Z"
    },
    "papermill": {
     "duration": 1.752237,
     "end_time": "2025-02-06T19:11:15.222498",
     "exception": false,
     "start_time": "2025-02-06T19:11:13.470261",
     "status": "completed"
    },
    "tags": []
   },
   "outputs": [],
   "source": [
    "import seaborn as sns\n",
    "import matplotlib.pyplot as plt"
   ]
  },
  {
   "cell_type": "code",
   "execution_count": 10,
   "id": "c76e013d",
   "metadata": {
    "execution": {
     "iopub.execute_input": "2025-02-06T19:11:15.234755Z",
     "iopub.status.busy": "2025-02-06T19:11:15.234182Z",
     "iopub.status.idle": "2025-02-06T19:11:15.563388Z",
     "shell.execute_reply": "2025-02-06T19:11:15.562177Z"
    },
    "papermill": {
     "duration": 0.337522,
     "end_time": "2025-02-06T19:11:15.565566",
     "exception": false,
     "start_time": "2025-02-06T19:11:15.228044",
     "status": "completed"
    },
    "tags": []
   },
   "outputs": [
    {
     "name": "stderr",
     "output_type": "stream",
     "text": [
      "/usr/local/lib/python3.10/dist-packages/seaborn/_oldcore.py:1119: FutureWarning: use_inf_as_na option is deprecated and will be removed in a future version. Convert inf values to NaN before operating instead.\n",
      "  with pd.option_context('mode.use_inf_as_na', True):\n",
      "/usr/local/lib/python3.10/dist-packages/seaborn/_oldcore.py:1119: FutureWarning: use_inf_as_na option is deprecated and will be removed in a future version. Convert inf values to NaN before operating instead.\n",
      "  with pd.option_context('mode.use_inf_as_na', True):\n"
     ]
    },
    {
     "data": {
      "image/png": "[encoded data removed]",
      "text/plain": [
       "<Figure size 640x480 with 1 Axes>"
      ]
     },
     "metadata": {},
     "output_type": "display_data"
    }
   ],
   "source": [
    "sns.lineplot(x='Movie Title', y='Release Year', data = movies)\n",
    "plt.xticks(rotation=70)\n",
    "plt.show()"
   ]
  },
  {
   "cell_type": "code",
   "execution_count": 11,
   "id": "fb824d1d",
   "metadata": {
    "execution": {
     "iopub.execute_input": "2025-02-06T19:11:15.581256Z",
     "iopub.status.busy": "2025-02-06T19:11:15.580864Z",
     "iopub.status.idle": "2025-02-06T19:11:15.589813Z",
     "shell.execute_reply": "2025-02-06T19:11:15.588746Z"
    },
    "papermill": {
     "duration": 0.018895,
     "end_time": "2025-02-06T19:11:15.591781",
     "exception": false,
     "start_time": "2025-02-06T19:11:15.572886",
     "status": "completed"
    },
    "tags": []
   },
   "outputs": [],
   "source": [
    "data_dict = pd.read_csv('/kaggle/input/harry-potter-movies-dataset/Harry_Potter_Movies/Data_Dictionary.csv')"
   ]
  },
  {
   "cell_type": "code",
   "execution_count": 12,
   "id": "26c3771e",
   "metadata": {
    "execution": {
     "iopub.execute_input": "2025-02-06T19:11:15.607690Z",
     "iopub.status.busy": "2025-02-06T19:11:15.607224Z",
     "iopub.status.idle": "2025-02-06T19:11:15.613312Z",
     "shell.execute_reply": "2025-02-06T19:11:15.612171Z"
    },
    "papermill": {
     "duration": 0.016017,
     "end_time": "2025-02-06T19:11:15.615203",
     "exception": false,
     "start_time": "2025-02-06T19:11:15.599186",
     "status": "completed"
    },
    "tags": []
   },
   "outputs": [
    {
     "data": {
      "text/plain": [
       "(31, 3)"
      ]
     },
     "execution_count": 12,
     "metadata": {},
     "output_type": "execute_result"
    }
   ],
   "source": [
    "data_dict.shape"
   ]
  },
  {
   "cell_type": "code",
   "execution_count": 13,
   "id": "1dbb338f",
   "metadata": {
    "execution": {
     "iopub.execute_input": "2025-02-06T19:11:15.631128Z",
     "iopub.status.busy": "2025-02-06T19:11:15.630762Z",
     "iopub.status.idle": "2025-02-06T19:11:15.640998Z",
     "shell.execute_reply": "2025-02-06T19:11:15.639873Z"
    },
    "papermill": {
     "duration": 0.020101,
     "end_time": "2025-02-06T19:11:15.642814",
     "exception": false,
     "start_time": "2025-02-06T19:11:15.622713",
     "status": "completed"
    },
    "tags": []
   },
   "outputs": [
    {
     "data": {
      "text/html": [
       "<div>\n",
       "<style scoped>\n",
       "    .dataframe tbody tr th:only-of-type {\n",
       "        vertical-align: middle;\n",
       "    }\n",
       "\n",
       "    .dataframe tbody tr th {\n",
       "        vertical-align: top;\n",
       "    }\n",
       "\n",
       "    .dataframe thead th {\n",
       "        text-align: right;\n",
       "    }\n",
       "</style>\n",
       "<table border=\"1\" class=\"dataframe\">\n",
       "  <thead>\n",
       "    <tr style=\"text-align: right;\">\n",
       "      <th></th>\n",
       "      <th>Table</th>\n",
       "      <th>Field</th>\n",
       "      <th>Description</th>\n",
       "    </tr>\n",
       "  </thead>\n",
       "  <tbody>\n",
       "    <tr>\n",
       "      <th>4</th>\n",
       "      <td>NaN</td>\n",
       "      <td>Budget</td>\n",
       "      <td>Budget for the movie is US Dollars</td>\n",
       "    </tr>\n",
       "    <tr>\n",
       "      <th>11</th>\n",
       "      <td>NaN</td>\n",
       "      <td>Character Name</td>\n",
       "      <td>Name of the character</td>\n",
       "    </tr>\n",
       "    <tr>\n",
       "      <th>20</th>\n",
       "      <td>NaN</td>\n",
       "      <td>Place Category</td>\n",
       "      <td>Type of place</td>\n",
       "    </tr>\n",
       "    <tr>\n",
       "      <th>0</th>\n",
       "      <td>Movies</td>\n",
       "      <td>Movie ID</td>\n",
       "      <td>Unique identifier for each movie</td>\n",
       "    </tr>\n",
       "    <tr>\n",
       "      <th>27</th>\n",
       "      <td>NaN</td>\n",
       "      <td>Chapter ID</td>\n",
       "      <td>Foreign key to match with Chapters table</td>\n",
       "    </tr>\n",
       "  </tbody>\n",
       "</table>\n",
       "</div>"
      ],
      "text/plain": [
       "     Table           Field                               Description\n",
       "4      NaN          Budget        Budget for the movie is US Dollars\n",
       "11     NaN  Character Name                     Name of the character\n",
       "20     NaN  Place Category                             Type of place\n",
       "0   Movies        Movie ID          Unique identifier for each movie\n",
       "27     NaN      Chapter ID  Foreign key to match with Chapters table"
      ]
     },
     "execution_count": 13,
     "metadata": {},
     "output_type": "execute_result"
    }
   ],
   "source": [
    "data_dict.sample(5)"
   ]
  },
  {
   "cell_type": "code",
   "execution_count": 14,
   "id": "e12de9c8",
   "metadata": {
    "execution": {
     "iopub.execute_input": "2025-02-06T19:11:15.659316Z",
     "iopub.status.busy": "2025-02-06T19:11:15.658947Z",
     "iopub.status.idle": "2025-02-06T19:11:15.668803Z",
     "shell.execute_reply": "2025-02-06T19:11:15.667625Z"
    },
    "papermill": {
     "duration": 0.020187,
     "end_time": "2025-02-06T19:11:15.670551",
     "exception": false,
     "start_time": "2025-02-06T19:11:15.650364",
     "status": "completed"
    },
    "tags": []
   },
   "outputs": [
    {
     "data": {
      "text/html": [
       "<div>\n",
       "<style scoped>\n",
       "    .dataframe tbody tr th:only-of-type {\n",
       "        vertical-align: middle;\n",
       "    }\n",
       "\n",
       "    .dataframe tbody tr th {\n",
       "        vertical-align: top;\n",
       "    }\n",
       "\n",
       "    .dataframe thead th {\n",
       "        text-align: right;\n",
       "    }\n",
       "</style>\n",
       "<table border=\"1\" class=\"dataframe\">\n",
       "  <thead>\n",
       "    <tr style=\"text-align: right;\">\n",
       "      <th></th>\n",
       "      <th>Table</th>\n",
       "      <th>Field</th>\n",
       "      <th>Description</th>\n",
       "    </tr>\n",
       "  </thead>\n",
       "  <tbody>\n",
       "    <tr>\n",
       "      <th>0</th>\n",
       "      <td>Movies</td>\n",
       "      <td>Movie ID</td>\n",
       "      <td>Unique identifier for each movie</td>\n",
       "    </tr>\n",
       "    <tr>\n",
       "      <th>1</th>\n",
       "      <td>NaN</td>\n",
       "      <td>Movie Title</td>\n",
       "      <td>Full movie name</td>\n",
       "    </tr>\n",
       "    <tr>\n",
       "      <th>2</th>\n",
       "      <td>NaN</td>\n",
       "      <td>Release Year</td>\n",
       "      <td>Year the movie was released in theaters</td>\n",
       "    </tr>\n",
       "    <tr>\n",
       "      <th>3</th>\n",
       "      <td>NaN</td>\n",
       "      <td>Runtime</td>\n",
       "      <td>Length of the movie in minutes</td>\n",
       "    </tr>\n",
       "    <tr>\n",
       "      <th>4</th>\n",
       "      <td>NaN</td>\n",
       "      <td>Budget</td>\n",
       "      <td>Budget for the movie is US Dollars</td>\n",
       "    </tr>\n",
       "  </tbody>\n",
       "</table>\n",
       "</div>"
      ],
      "text/plain": [
       "    Table         Field                              Description\n",
       "0  Movies      Movie ID         Unique identifier for each movie\n",
       "1     NaN   Movie Title                          Full movie name\n",
       "2     NaN  Release Year  Year the movie was released in theaters\n",
       "3     NaN       Runtime           Length of the movie in minutes\n",
       "4     NaN        Budget       Budget for the movie is US Dollars"
      ]
     },
     "execution_count": 14,
     "metadata": {},
     "output_type": "execute_result"
    }
   ],
   "source": [
    "data_dict.head()"
   ]
  },
  {
   "cell_type": "code",
   "execution_count": 15,
   "id": "6b1e13a8",
   "metadata": {
    "execution": {
     "iopub.execute_input": "2025-02-06T19:11:15.687052Z",
     "iopub.status.busy": "2025-02-06T19:11:15.686603Z",
     "iopub.status.idle": "2025-02-06T19:11:15.695080Z",
     "shell.execute_reply": "2025-02-06T19:11:15.694061Z"
    },
    "papermill": {
     "duration": 0.0188,
     "end_time": "2025-02-06T19:11:15.696975",
     "exception": false,
     "start_time": "2025-02-06T19:11:15.678175",
     "status": "completed"
    },
    "tags": []
   },
   "outputs": [],
   "source": [
    "spells=pd.read_csv('/kaggle/input/harry-potter-movies-dataset/Harry_Potter_Movies/Spells.csv')"
   ]
  },
  {
   "cell_type": "code",
   "execution_count": 16,
   "id": "a261d5c0",
   "metadata": {
    "execution": {
     "iopub.execute_input": "2025-02-06T19:11:15.713192Z",
     "iopub.status.busy": "2025-02-06T19:11:15.712822Z",
     "iopub.status.idle": "2025-02-06T19:11:15.718705Z",
     "shell.execute_reply": "2025-02-06T19:11:15.717757Z"
    },
    "papermill": {
     "duration": 0.015741,
     "end_time": "2025-02-06T19:11:15.720335",
     "exception": false,
     "start_time": "2025-02-06T19:11:15.704594",
     "status": "completed"
    },
    "tags": []
   },
   "outputs": [
    {
     "data": {
      "text/plain": [
       "(61, 5)"
      ]
     },
     "execution_count": 16,
     "metadata": {},
     "output_type": "execute_result"
    }
   ],
   "source": [
    "spells.shape"
   ]
  },
  {
   "cell_type": "code",
   "execution_count": 17,
   "id": "492c4358",
   "metadata": {
    "execution": {
     "iopub.execute_input": "2025-02-06T19:11:15.736871Z",
     "iopub.status.busy": "2025-02-06T19:11:15.736434Z",
     "iopub.status.idle": "2025-02-06T19:11:15.747966Z",
     "shell.execute_reply": "2025-02-06T19:11:15.746497Z"
    },
    "papermill": {
     "duration": 0.021481,
     "end_time": "2025-02-06T19:11:15.749643",
     "exception": false,
     "start_time": "2025-02-06T19:11:15.728162",
     "status": "completed"
    },
    "tags": []
   },
   "outputs": [
    {
     "data": {
      "text/html": [
       "<div>\n",
       "<style scoped>\n",
       "    .dataframe tbody tr th:only-of-type {\n",
       "        vertical-align: middle;\n",
       "    }\n",
       "\n",
       "    .dataframe tbody tr th {\n",
       "        vertical-align: top;\n",
       "    }\n",
       "\n",
       "    .dataframe thead th {\n",
       "        text-align: right;\n",
       "    }\n",
       "</style>\n",
       "<table border=\"1\" class=\"dataframe\">\n",
       "  <thead>\n",
       "    <tr style=\"text-align: right;\">\n",
       "      <th></th>\n",
       "      <th>Spell ID</th>\n",
       "      <th>Incantation</th>\n",
       "      <th>Spell Name</th>\n",
       "      <th>Effect</th>\n",
       "      <th>Light</th>\n",
       "    </tr>\n",
       "  </thead>\n",
       "  <tbody>\n",
       "    <tr>\n",
       "      <th>0</th>\n",
       "      <td>1</td>\n",
       "      <td>Accio</td>\n",
       "      <td>Summoning Charm</td>\n",
       "      <td>Summons an object</td>\n",
       "      <td>NaN</td>\n",
       "    </tr>\n",
       "    <tr>\n",
       "      <th>1</th>\n",
       "      <td>2</td>\n",
       "      <td>Aguamenti</td>\n",
       "      <td>Water-Making Spell</td>\n",
       "      <td>Conjures water</td>\n",
       "      <td>Icy blue</td>\n",
       "    </tr>\n",
       "    <tr>\n",
       "      <th>2</th>\n",
       "      <td>3</td>\n",
       "      <td>Alarte Ascendare</td>\n",
       "      <td>Launch an object up into the air</td>\n",
       "      <td>Rockets target upward</td>\n",
       "      <td>Red</td>\n",
       "    </tr>\n",
       "    <tr>\n",
       "      <th>3</th>\n",
       "      <td>4</td>\n",
       "      <td>Alohomora</td>\n",
       "      <td>Unlocking Charm</td>\n",
       "      <td>Unlocks target</td>\n",
       "      <td>Blue</td>\n",
       "    </tr>\n",
       "    <tr>\n",
       "      <th>4</th>\n",
       "      <td>5</td>\n",
       "      <td>Arania Exumai</td>\n",
       "      <td>Spider repelling spell</td>\n",
       "      <td>Repels spiders</td>\n",
       "      <td>Blue</td>\n",
       "    </tr>\n",
       "  </tbody>\n",
       "</table>\n",
       "</div>"
      ],
      "text/plain": [
       "   Spell ID       Incantation                        Spell Name  \\\n",
       "0         1             Accio                   Summoning Charm   \n",
       "1         2         Aguamenti                Water-Making Spell   \n",
       "2         3  Alarte Ascendare  Launch an object up into the air   \n",
       "3         4         Alohomora                   Unlocking Charm   \n",
       "4         5     Arania Exumai            Spider repelling spell   \n",
       "\n",
       "                  Effect     Light  \n",
       "0      Summons an object       NaN  \n",
       "1         Conjures water  Icy blue  \n",
       "2  Rockets target upward       Red  \n",
       "3         Unlocks target      Blue  \n",
       "4         Repels spiders      Blue  "
      ]
     },
     "execution_count": 17,
     "metadata": {},
     "output_type": "execute_result"
    }
   ],
   "source": [
    "spells.head()"
   ]
  },
  {
   "cell_type": "code",
   "execution_count": 18,
   "id": "79a08eff",
   "metadata": {
    "execution": {
     "iopub.execute_input": "2025-02-06T19:11:15.766458Z",
     "iopub.status.busy": "2025-02-06T19:11:15.766108Z",
     "iopub.status.idle": "2025-02-06T19:11:15.777830Z",
     "shell.execute_reply": "2025-02-06T19:11:15.776867Z"
    },
    "papermill": {
     "duration": 0.022468,
     "end_time": "2025-02-06T19:11:15.779802",
     "exception": false,
     "start_time": "2025-02-06T19:11:15.757334",
     "status": "completed"
    },
    "tags": []
   },
   "outputs": [],
   "source": [
    "char=pd.read_csv('/kaggle/input/harry-potter-movies-dataset/Harry_Potter_Movies/Characters.csv',encoding= 'unicode_escape')"
   ]
  },
  {
   "cell_type": "code",
   "execution_count": 19,
   "id": "2c032b85",
   "metadata": {
    "execution": {
     "iopub.execute_input": "2025-02-06T19:11:15.796561Z",
     "iopub.status.busy": "2025-02-06T19:11:15.796190Z",
     "iopub.status.idle": "2025-02-06T19:11:15.808775Z",
     "shell.execute_reply": "2025-02-06T19:11:15.807767Z"
    },
    "papermill": {
     "duration": 0.02278,
     "end_time": "2025-02-06T19:11:15.810486",
     "exception": false,
     "start_time": "2025-02-06T19:11:15.787706",
     "status": "completed"
    },
    "tags": []
   },
   "outputs": [
    {
     "data": {
      "text/html": [
       "<div>\n",
       "<style scoped>\n",
       "    .dataframe tbody tr th:only-of-type {\n",
       "        vertical-align: middle;\n",
       "    }\n",
       "\n",
       "    .dataframe tbody tr th {\n",
       "        vertical-align: top;\n",
       "    }\n",
       "\n",
       "    .dataframe thead th {\n",
       "        text-align: right;\n",
       "    }\n",
       "</style>\n",
       "<table border=\"1\" class=\"dataframe\">\n",
       "  <thead>\n",
       "    <tr style=\"text-align: right;\">\n",
       "      <th></th>\n",
       "      <th>Character ID</th>\n",
       "      <th>Character Name</th>\n",
       "      <th>Species</th>\n",
       "      <th>Gender</th>\n",
       "      <th>House</th>\n",
       "      <th>Patronus</th>\n",
       "      <th>Wand (Wood)</th>\n",
       "      <th>Wand (Core)</th>\n",
       "    </tr>\n",
       "  </thead>\n",
       "  <tbody>\n",
       "    <tr>\n",
       "      <th>0</th>\n",
       "      <td>1</td>\n",
       "      <td>Harry Potter</td>\n",
       "      <td>Human</td>\n",
       "      <td>Male</td>\n",
       "      <td>Gryffindor</td>\n",
       "      <td>Stag</td>\n",
       "      <td>Holly</td>\n",
       "      <td>Phoenix Feather</td>\n",
       "    </tr>\n",
       "    <tr>\n",
       "      <th>1</th>\n",
       "      <td>2</td>\n",
       "      <td>Ron Weasley</td>\n",
       "      <td>Human</td>\n",
       "      <td>Male</td>\n",
       "      <td>Gryffindor</td>\n",
       "      <td>Jack Russell Terrier</td>\n",
       "      <td>NaN</td>\n",
       "      <td>NaN</td>\n",
       "    </tr>\n",
       "    <tr>\n",
       "      <th>2</th>\n",
       "      <td>3</td>\n",
       "      <td>Hermione Granger</td>\n",
       "      <td>Human</td>\n",
       "      <td>Female</td>\n",
       "      <td>Gryffindor</td>\n",
       "      <td>Otter</td>\n",
       "      <td>Vine</td>\n",
       "      <td>Dragon Heartstring</td>\n",
       "    </tr>\n",
       "    <tr>\n",
       "      <th>3</th>\n",
       "      <td>4</td>\n",
       "      <td>Albus Dumbledore</td>\n",
       "      <td>Human</td>\n",
       "      <td>Male</td>\n",
       "      <td>Gryffindor</td>\n",
       "      <td>Phoenix</td>\n",
       "      <td>Elder</td>\n",
       "      <td>Thestral Tail Hair</td>\n",
       "    </tr>\n",
       "    <tr>\n",
       "      <th>4</th>\n",
       "      <td>5</td>\n",
       "      <td>Rubeus Hagrid</td>\n",
       "      <td>Half-Human/Half-Giant</td>\n",
       "      <td>Male</td>\n",
       "      <td>Gryffindor</td>\n",
       "      <td>NaN</td>\n",
       "      <td>Oak</td>\n",
       "      <td>NaN</td>\n",
       "    </tr>\n",
       "  </tbody>\n",
       "</table>\n",
       "</div>"
      ],
      "text/plain": [
       "   Character ID    Character Name                Species  Gender       House  \\\n",
       "0             1      Harry Potter                  Human    Male  Gryffindor   \n",
       "1             2       Ron Weasley                  Human    Male  Gryffindor   \n",
       "2             3  Hermione Granger                  Human  Female  Gryffindor   \n",
       "3             4  Albus Dumbledore                  Human    Male  Gryffindor   \n",
       "4             5     Rubeus Hagrid  Half-Human/Half-Giant    Male  Gryffindor   \n",
       "\n",
       "               Patronus Wand (Wood)         Wand (Core)  \n",
       "0                  Stag       Holly     Phoenix Feather  \n",
       "1  Jack Russell Terrier         NaN                 NaN  \n",
       "2                 Otter        Vine  Dragon Heartstring  \n",
       "3               Phoenix       Elder  Thestral Tail Hair  \n",
       "4                   NaN         Oak                 NaN  "
      ]
     },
     "execution_count": 19,
     "metadata": {},
     "output_type": "execute_result"
    }
   ],
   "source": [
    "char.head()"
   ]
  },
  {
   "cell_type": "code",
   "execution_count": null,
   "id": "5c8f7884",
   "metadata": {
    "papermill": {
     "duration": 0.007521,
     "end_time": "2025-02-06T19:11:15.825994",
     "exception": false,
     "start_time": "2025-02-06T19:11:15.818473",
     "status": "completed"
    },
    "tags": []
   },
   "outputs": [],
   "source": []
  }
 ],
 "metadata": {
  "kaggle": {
   "accelerator": "none",
   "dataSources": [
    {
     "datasetId": 1863417,
     "sourceId": 3042702,
     "sourceType": "datasetVersion"
    }
   ],
   "dockerImageVersionId": 30839,
   "isGpuEnabled": false,
   "isInternetEnabled": true,
   "language": "python",
   "sourceType": "notebook"
  },
  "kernelspec": {
   "display_name": "Python 3",
   "language": "python",
   "name": "python3"
  },
  "language_info": {
   "codemirror_mode": {
    "name": "ipython",
    "version": 3
   },
   "file_extension": ".py",
   "mimetype": "text/x-python",
   "name": "python",
   "nbconvert_exporter": "python",
   "pygments_lexer": "ipython3",
   "version": "3.10.12"
  },
  "papermill": {
   "default_parameters": {},
   "duration": 7.09817,
   "end_time": "2025-02-06T19:11:16.554972",
   "environment_variables": {},
   "exception": null,
   "input_path": "__notebook__.ipynb",
   "output_path": "__notebook__.ipynb",
   "parameters": {},
   "start_time": "2025-02-06T19:11:09.456802",
   "version": "2.6.0"
  }
 },
 "nbformat": 4,
 "nbformat_minor": 5
}
