{
 "cells": [
  {
   "cell_type": "code",
   "execution_count": 1,
   "id": "0d3c793b",
   "metadata": {
    "_cell_guid": "b1076dfc-b9ad-4769-8c92-a6c4dae69d19",
    "_uuid": "8f2839f25d086af736a60e9eeb907d3b93b6e0e5",
    "execution": {
     "iopub.execute_input": "2025-02-27T16:33:59.447583Z",
     "iopub.status.busy": "2025-02-27T16:33:59.447086Z",
     "iopub.status.idle": "2025-02-27T16:34:00.700689Z",
     "shell.execute_reply": "2025-02-27T16:34:00.699524Z"
    },
    "papermill": {
     "duration": 1.261195,
     "end_time": "2025-02-27T16:34:00.702482",
     "exception": false,
     "start_time": "2025-02-27T16:33:59.441287",
     "status": "completed"
    },
    "tags": []
   },
   "outputs": [
    {
     "name": "stdout",
     "output_type": "stream",
     "text": [
      "/kaggle/input/titanicdataset-traincsv/train.csv\n"
     ]
    }
   ],
   "source": [
    "# This Python 3 environment comes with many helpful analytics libraries installed\n",
    "# It is defined by the kaggle/python Docker image: https://github.com/kaggle/docker-python\n",
    "# For example, here's several helpful packages to load\n",
    "\n",
    "import numpy as np # linear algebra\n",
    "import pandas as pd # data processing, CSV file I/O (e.g. pd.read_csv)\n",
    "\n",
    "# Input data files are available in the read-only \"../input/\" directory\n",
    "# For example, running this (by clicking run or pressing Shift+Enter) will list all files under the input directory\n",
    "\n",
    "import os\n",
    "for dirname, _, filenames in os.walk('/kaggle/input'):\n",
    "    for filename in filenames:\n",
    "        print(os.path.join(dirname, filename))\n",
    "\n",
    "# You can write up to 20GB to the current directory (/kaggle/working/) that gets preserved as output when you create a version using \"Save & Run All\" \n",
    "# You can also write temporary files to /kaggle/temp/, but they won't be saved outside of the current session"
   ]
  },
  {
   "cell_type": "code",
   "execution_count": 2,
   "id": "6a32121a",
   "metadata": {
    "execution": {
     "iopub.execute_input": "2025-02-27T16:34:00.712061Z",
     "iopub.status.busy": "2025-02-27T16:34:00.711549Z",
     "iopub.status.idle": "2025-02-27T16:34:00.735199Z",
     "shell.execute_reply": "2025-02-27T16:34:00.734106Z"
    },
    "papermill": {
     "duration": 0.030489,
     "end_time": "2025-02-27T16:34:00.737273",
     "exception": false,
     "start_time": "2025-02-27T16:34:00.706784",
     "status": "completed"
    },
    "tags": []
   },
   "outputs": [],
   "source": [
    "df = pd.read_csv('/kaggle/input/titanicdataset-traincsv/train.csv', usecols=['Age','Pclass','Fare','Survived'])"
   ]
  },
  {
   "cell_type": "code",
   "execution_count": 3,
   "id": "e275eda7",
   "metadata": {
    "execution": {
     "iopub.execute_input": "2025-02-27T16:34:00.746737Z",
     "iopub.status.busy": "2025-02-27T16:34:00.746341Z",
     "iopub.status.idle": "2025-02-27T16:34:00.782757Z",
     "shell.execute_reply": "2025-02-27T16:34:00.781674Z"
    },
    "papermill": {
     "duration": 0.043219,
     "end_time": "2025-02-27T16:34:00.784654",
     "exception": false,
     "start_time": "2025-02-27T16:34:00.741435",
     "status": "completed"
    },
    "tags": []
   },
   "outputs": [
    {
     "data": {
      "text/html": [
       "<div>\n",
       "<style scoped>\n",
       "    .dataframe tbody tr th:only-of-type {\n",
       "        vertical-align: middle;\n",
       "    }\n",
       "\n",
       "    .dataframe tbody tr th {\n",
       "        vertical-align: top;\n",
       "    }\n",
       "\n",
       "    .dataframe thead th {\n",
       "        text-align: right;\n",
       "    }\n",
       "</style>\n",
       "<table border=\"1\" class=\"dataframe\">\n",
       "  <thead>\n",
       "    <tr style=\"text-align: right;\">\n",
       "      <th></th>\n",
       "      <th>Survived</th>\n",
       "      <th>Pclass</th>\n",
       "      <th>Age</th>\n",
       "      <th>Fare</th>\n",
       "    </tr>\n",
       "  </thead>\n",
       "  <tbody>\n",
       "    <tr>\n",
       "      <th>207</th>\n",
       "      <td>1</td>\n",
       "      <td>3</td>\n",
       "      <td>26.0</td>\n",
       "      <td>18.7875</td>\n",
       "    </tr>\n",
       "    <tr>\n",
       "      <th>794</th>\n",
       "      <td>0</td>\n",
       "      <td>3</td>\n",
       "      <td>25.0</td>\n",
       "      <td>7.8958</td>\n",
       "    </tr>\n",
       "    <tr>\n",
       "      <th>460</th>\n",
       "      <td>1</td>\n",
       "      <td>1</td>\n",
       "      <td>48.0</td>\n",
       "      <td>26.5500</td>\n",
       "    </tr>\n",
       "    <tr>\n",
       "      <th>85</th>\n",
       "      <td>1</td>\n",
       "      <td>3</td>\n",
       "      <td>33.0</td>\n",
       "      <td>15.8500</td>\n",
       "    </tr>\n",
       "  </tbody>\n",
       "</table>\n",
       "</div>"
      ],
      "text/plain": [
       "     Survived  Pclass   Age     Fare\n",
       "207         1       3  26.0  18.7875\n",
       "794         0       3  25.0   7.8958\n",
       "460         1       1  48.0  26.5500\n",
       "85          1       3  33.0  15.8500"
      ]
     },
     "execution_count": 3,
     "metadata": {},
     "output_type": "execute_result"
    }
   ],
   "source": [
    "df.sample(4)"
   ]
  },
  {
   "cell_type": "code",
   "execution_count": 4,
   "id": "65779a5b",
   "metadata": {
    "execution": {
     "iopub.execute_input": "2025-02-27T16:34:00.794247Z",
     "iopub.status.busy": "2025-02-27T16:34:00.793932Z",
     "iopub.status.idle": "2025-02-27T16:34:00.803279Z",
     "shell.execute_reply": "2025-02-27T16:34:00.802351Z"
    },
    "papermill": {
     "duration": 0.016418,
     "end_time": "2025-02-27T16:34:00.805165",
     "exception": false,
     "start_time": "2025-02-27T16:34:00.788747",
     "status": "completed"
    },
    "tags": []
   },
   "outputs": [
    {
     "data": {
      "text/plain": [
       "Survived     0.00000\n",
       "Pclass       0.00000\n",
       "Age         19.86532\n",
       "Fare         0.00000\n",
       "dtype: float64"
      ]
     },
     "execution_count": 4,
     "metadata": {},
     "output_type": "execute_result"
    }
   ],
   "source": [
    "df.isnull().mean()*100"
   ]
  },
  {
   "cell_type": "code",
   "execution_count": 5,
   "id": "76830201",
   "metadata": {
    "execution": {
     "iopub.execute_input": "2025-02-27T16:34:00.814804Z",
     "iopub.status.busy": "2025-02-27T16:34:00.814428Z",
     "iopub.status.idle": "2025-02-27T16:34:02.692492Z",
     "shell.execute_reply": "2025-02-27T16:34:02.691349Z"
    },
    "papermill": {
     "duration": 1.884985,
     "end_time": "2025-02-27T16:34:02.694488",
     "exception": false,
     "start_time": "2025-02-27T16:34:00.809503",
     "status": "completed"
    },
    "tags": []
   },
   "outputs": [],
   "source": [
    "from sklearn.model_selection import train_test_split\n",
    "\n",
    "x = df.drop(columns=['Survived'])\n",
    "y = df['Survived']\n",
    "\n",
    "X_train,X_test,Y_train,Y_test = train_test_split(x,y,test_size=0.2,random_state=2)"
   ]
  },
  {
   "cell_type": "code",
   "execution_count": 6,
   "id": "e3d30818",
   "metadata": {
    "execution": {
     "iopub.execute_input": "2025-02-27T16:34:02.704879Z",
     "iopub.status.busy": "2025-02-27T16:34:02.704285Z",
     "iopub.status.idle": "2025-02-27T16:34:02.714762Z",
     "shell.execute_reply": "2025-02-27T16:34:02.713693Z"
    },
    "papermill": {
     "duration": 0.017669,
     "end_time": "2025-02-27T16:34:02.716400",
     "exception": false,
     "start_time": "2025-02-27T16:34:02.698731",
     "status": "completed"
    },
    "tags": []
   },
   "outputs": [
    {
     "data": {
      "text/html": [
       "<div>\n",
       "<style scoped>\n",
       "    .dataframe tbody tr th:only-of-type {\n",
       "        vertical-align: middle;\n",
       "    }\n",
       "\n",
       "    .dataframe tbody tr th {\n",
       "        vertical-align: top;\n",
       "    }\n",
       "\n",
       "    .dataframe thead th {\n",
       "        text-align: right;\n",
       "    }\n",
       "</style>\n",
       "<table border=\"1\" class=\"dataframe\">\n",
       "  <thead>\n",
       "    <tr style=\"text-align: right;\">\n",
       "      <th></th>\n",
       "      <th>Pclass</th>\n",
       "      <th>Age</th>\n",
       "      <th>Fare</th>\n",
       "    </tr>\n",
       "  </thead>\n",
       "  <tbody>\n",
       "    <tr>\n",
       "      <th>30</th>\n",
       "      <td>1</td>\n",
       "      <td>40.0</td>\n",
       "      <td>27.7208</td>\n",
       "    </tr>\n",
       "    <tr>\n",
       "      <th>10</th>\n",
       "      <td>3</td>\n",
       "      <td>4.0</td>\n",
       "      <td>16.7000</td>\n",
       "    </tr>\n",
       "    <tr>\n",
       "      <th>873</th>\n",
       "      <td>3</td>\n",
       "      <td>47.0</td>\n",
       "      <td>9.0000</td>\n",
       "    </tr>\n",
       "    <tr>\n",
       "      <th>182</th>\n",
       "      <td>3</td>\n",
       "      <td>9.0</td>\n",
       "      <td>31.3875</td>\n",
       "    </tr>\n",
       "    <tr>\n",
       "      <th>876</th>\n",
       "      <td>3</td>\n",
       "      <td>20.0</td>\n",
       "      <td>9.8458</td>\n",
       "    </tr>\n",
       "  </tbody>\n",
       "</table>\n",
       "</div>"
      ],
      "text/plain": [
       "     Pclass   Age     Fare\n",
       "30        1  40.0  27.7208\n",
       "10        3   4.0  16.7000\n",
       "873       3  47.0   9.0000\n",
       "182       3   9.0  31.3875\n",
       "876       3  20.0   9.8458"
      ]
     },
     "execution_count": 6,
     "metadata": {},
     "output_type": "execute_result"
    }
   ],
   "source": [
    "X_train.head()"
   ]
  },
  {
   "cell_type": "markdown",
   "id": "b24b89b2",
   "metadata": {
    "papermill": {
     "duration": 0.004231,
     "end_time": "2025-02-27T16:34:02.725158",
     "exception": false,
     "start_time": "2025-02-27T16:34:02.720927",
     "status": "completed"
    },
    "tags": []
   },
   "source": [
    "# KNN imputer"
   ]
  },
  {
   "cell_type": "code",
   "execution_count": 7,
   "id": "71d4350e",
   "metadata": {
    "execution": {
     "iopub.execute_input": "2025-02-27T16:34:02.734907Z",
     "iopub.status.busy": "2025-02-27T16:34:02.734443Z",
     "iopub.status.idle": "2025-02-27T16:34:03.038780Z",
     "shell.execute_reply": "2025-02-27T16:34:03.037444Z"
    },
    "papermill": {
     "duration": 0.311457,
     "end_time": "2025-02-27T16:34:03.040779",
     "exception": false,
     "start_time": "2025-02-27T16:34:02.729322",
     "status": "completed"
    },
    "tags": []
   },
   "outputs": [],
   "source": [
    "from sklearn.impute import KNNImputer,SimpleImputer"
   ]
  },
  {
   "cell_type": "code",
   "execution_count": 8,
   "id": "7030b311",
   "metadata": {
    "execution": {
     "iopub.execute_input": "2025-02-27T16:34:03.050634Z",
     "iopub.status.busy": "2025-02-27T16:34:03.050182Z",
     "iopub.status.idle": "2025-02-27T16:34:03.120706Z",
     "shell.execute_reply": "2025-02-27T16:34:03.119512Z"
    },
    "papermill": {
     "duration": 0.077587,
     "end_time": "2025-02-27T16:34:03.122755",
     "exception": false,
     "start_time": "2025-02-27T16:34:03.045168",
     "status": "completed"
    },
    "tags": []
   },
   "outputs": [],
   "source": [
    "knn = KNNImputer(n_neighbors=3,weights='distance')\n",
    "\n",
    "X_train_imputed = knn.fit_transform(X_train)\n",
    "X_test_imputed = knn.transform(X_test)"
   ]
  },
  {
   "cell_type": "markdown",
   "id": "0f685b74",
   "metadata": {
    "papermill": {
     "duration": 0.004937,
     "end_time": "2025-02-27T16:34:03.133194",
     "exception": false,
     "start_time": "2025-02-27T16:34:03.128257",
     "status": "completed"
    },
    "tags": []
   },
   "source": [
    "# Model traning"
   ]
  },
  {
   "cell_type": "code",
   "execution_count": 9,
   "id": "a2f8d2d3",
   "metadata": {
    "execution": {
     "iopub.execute_input": "2025-02-27T16:34:03.142929Z",
     "iopub.status.busy": "2025-02-27T16:34:03.142546Z",
     "iopub.status.idle": "2025-02-27T16:34:03.146744Z",
     "shell.execute_reply": "2025-02-27T16:34:03.145794Z"
    },
    "papermill": {
     "duration": 0.010827,
     "end_time": "2025-02-27T16:34:03.148435",
     "exception": false,
     "start_time": "2025-02-27T16:34:03.137608",
     "status": "completed"
    },
    "tags": []
   },
   "outputs": [],
   "source": [
    "from sklearn.linear_model import LogisticRegression"
   ]
  },
  {
   "cell_type": "markdown",
   "id": "2b4d987b",
   "metadata": {
    "papermill": {
     "duration": 0.004222,
     "end_time": "2025-02-27T16:34:03.158967",
     "exception": false,
     "start_time": "2025-02-27T16:34:03.154745",
     "status": "completed"
    },
    "tags": []
   },
   "source": [
    "# After KNN imputer"
   ]
  },
  {
   "cell_type": "code",
   "execution_count": 10,
   "id": "393fe20a",
   "metadata": {
    "execution": {
     "iopub.execute_input": "2025-02-27T16:34:03.169585Z",
     "iopub.status.busy": "2025-02-27T16:34:03.169184Z",
     "iopub.status.idle": "2025-02-27T16:34:03.206807Z",
     "shell.execute_reply": "2025-02-27T16:34:03.205705Z"
    },
    "papermill": {
     "duration": 0.045079,
     "end_time": "2025-02-27T16:34:03.208603",
     "exception": false,
     "start_time": "2025-02-27T16:34:03.163524",
     "status": "completed"
    },
    "tags": []
   },
   "outputs": [
    {
     "data": {
      "text/plain": [
       "0.7150837988826816"
      ]
     },
     "execution_count": 10,
     "metadata": {},
     "output_type": "execute_result"
    }
   ],
   "source": [
    "lr = LogisticRegression()\n",
    "\n",
    "lr.fit(X_train_imputed,Y_train)\n",
    "\n",
    "from sklearn.metrics import accuracy_score\n",
    "\n",
    "y_pred=lr.predict(X_test_imputed)\n",
    "\n",
    "accuracy_score(y_pred,Y_test)"
   ]
  },
  {
   "cell_type": "markdown",
   "id": "80a0782d",
   "metadata": {
    "papermill": {
     "duration": 0.00482,
     "end_time": "2025-02-27T16:34:03.218934",
     "exception": false,
     "start_time": "2025-02-27T16:34:03.214114",
     "status": "completed"
    },
    "tags": []
   },
   "source": [
    "# After simple imputer"
   ]
  },
  {
   "cell_type": "code",
   "execution_count": 11,
   "id": "2ca0d0ef",
   "metadata": {
    "execution": {
     "iopub.execute_input": "2025-02-27T16:34:03.228519Z",
     "iopub.status.busy": "2025-02-27T16:34:03.228129Z",
     "iopub.status.idle": "2025-02-27T16:34:03.238662Z",
     "shell.execute_reply": "2025-02-27T16:34:03.237686Z"
    },
    "papermill": {
     "duration": 0.017303,
     "end_time": "2025-02-27T16:34:03.240376",
     "exception": false,
     "start_time": "2025-02-27T16:34:03.223073",
     "status": "completed"
    },
    "tags": []
   },
   "outputs": [],
   "source": [
    "si = SimpleImputer()\n",
    "\n",
    "X_train_Simple = si.fit_transform(X_train)\n",
    "X_test_Simple = si.transform(X_test)"
   ]
  },
  {
   "cell_type": "code",
   "execution_count": 12,
   "id": "e7e720ed",
   "metadata": {
    "execution": {
     "iopub.execute_input": "2025-02-27T16:34:03.250170Z",
     "iopub.status.busy": "2025-02-27T16:34:03.249820Z",
     "iopub.status.idle": "2025-02-27T16:34:03.266734Z",
     "shell.execute_reply": "2025-02-27T16:34:03.265715Z"
    },
    "papermill": {
     "duration": 0.023601,
     "end_time": "2025-02-27T16:34:03.268382",
     "exception": false,
     "start_time": "2025-02-27T16:34:03.244781",
     "status": "completed"
    },
    "tags": []
   },
   "outputs": [
    {
     "data": {
      "text/plain": [
       "0.6927374301675978"
      ]
     },
     "execution_count": 12,
     "metadata": {},
     "output_type": "execute_result"
    }
   ],
   "source": [
    "lr.fit(X_train_Simple,Y_train)\n",
    "\n",
    "\n",
    "y_pred2 = lr.predict(X_test_Simple)\n",
    "\n",
    "accuracy_score(y_pred2,Y_test)"
   ]
  },
  {
   "cell_type": "code",
   "execution_count": null,
   "id": "fda07a9a",
   "metadata": {
    "papermill": {
     "duration": 0.004217,
     "end_time": "2025-02-27T16:34:03.277220",
     "exception": false,
     "start_time": "2025-02-27T16:34:03.273003",
     "status": "completed"
    },
    "tags": []
   },
   "outputs": [],
   "source": []
  }
 ],
 "metadata": {
  "kaggle": {
   "accelerator": "none",
   "dataSources": [
    {
     "datasetId": 11657,
     "sourceId": 16098,
     "sourceType": "datasetVersion"
    }
   ],
   "dockerImageVersionId": 30918,
   "isGpuEnabled": false,
   "isInternetEnabled": true,
   "language": "python",
   "sourceType": "notebook"
  },
  "kernelspec": {
   "display_name": "Python 3",
   "language": "python",
   "name": "python3"
  },
  "language_info": {
   "codemirror_mode": {
    "name": "ipython",
    "version": 3
   },
   "file_extension": ".py",
   "mimetype": "text/x-python",
   "name": "python",
   "nbconvert_exporter": "python",
   "pygments_lexer": "ipython3",
   "version": "3.10.12"
  },
  "papermill": {
   "default_parameters": {},
   "duration": 7.516863,
   "end_time": "2025-02-27T16:34:04.002067",
   "environment_variables": {},
   "exception": null,
   "input_path": "__notebook__.ipynb",
   "output_path": "__notebook__.ipynb",
   "parameters": {},
   "start_time": "2025-02-27T16:33:56.485204",
   "version": "2.6.0"
  }
 },
 "nbformat": 4,
 "nbformat_minor": 5
}
